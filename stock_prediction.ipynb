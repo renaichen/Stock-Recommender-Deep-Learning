{
  "nbformat": 4,
  "nbformat_minor": 0,
  "metadata": {
    "colab": {
      "name": "capstone_stock_prediction.ipynb",
      "provenance": [],
      "collapsed_sections": []
    },
    "kernelspec": {
      "name": "python3",
      "display_name": "Python 3"
    },
    "language_info": {
      "name": "python"
    },
    "accelerator": "GPU"
  },
  "cells": [
    {
      "cell_type": "code",
      "metadata": {
        "id": "D0wg_RMLYYko"
      },
      "source": [
        "import numpy as np\n",
        "import pandas as pd\n",
        "import pandas_datareader as web\n",
        "import matplotlib.pyplot as plt"
      ],
      "execution_count": 2,
      "outputs": []
    },
    {
      "cell_type": "code",
      "metadata": {
        "id": "zEmS154EYj_Q"
      },
      "source": [
        "df = web.DataReader('GOOGL', 'yahoo', start='2003-01-01', end='now')"
      ],
      "execution_count": 3,
      "outputs": []
    },
    {
      "cell_type": "code",
      "metadata": {
        "colab": {
          "base_uri": "https://localhost:8080/",
          "height": 225
        },
        "id": "MZ6_8MA2b1W2",
        "outputId": "bc213107-b07a-4bf1-b7d7-b0fe110fdcda"
      },
      "source": [
        "df.tail()"
      ],
      "execution_count": 4,
      "outputs": [
        {
          "output_type": "execute_result",
          "data": {
            "text/html": [
              "<div>\n",
              "<style scoped>\n",
              "    .dataframe tbody tr th:only-of-type {\n",
              "        vertical-align: middle;\n",
              "    }\n",
              "\n",
              "    .dataframe tbody tr th {\n",
              "        vertical-align: top;\n",
              "    }\n",
              "\n",
              "    .dataframe thead th {\n",
              "        text-align: right;\n",
              "    }\n",
              "</style>\n",
              "<table border=\"1\" class=\"dataframe\">\n",
              "  <thead>\n",
              "    <tr style=\"text-align: right;\">\n",
              "      <th></th>\n",
              "      <th>High</th>\n",
              "      <th>Low</th>\n",
              "      <th>Open</th>\n",
              "      <th>Close</th>\n",
              "      <th>Volume</th>\n",
              "      <th>Adj Close</th>\n",
              "    </tr>\n",
              "    <tr>\n",
              "      <th>Date</th>\n",
              "      <th></th>\n",
              "      <th></th>\n",
              "      <th></th>\n",
              "      <th></th>\n",
              "      <th></th>\n",
              "      <th></th>\n",
              "    </tr>\n",
              "  </thead>\n",
              "  <tbody>\n",
              "    <tr>\n",
              "      <th>2021-04-13</th>\n",
              "      <td>2263.469971</td>\n",
              "      <td>2243.050049</td>\n",
              "      <td>2250.989990</td>\n",
              "      <td>2254.429932</td>\n",
              "      <td>1284100.0</td>\n",
              "      <td>2254.429932</td>\n",
              "    </tr>\n",
              "    <tr>\n",
              "      <th>2021-04-14</th>\n",
              "      <td>2267.429932</td>\n",
              "      <td>2236.020020</td>\n",
              "      <td>2267.429932</td>\n",
              "      <td>2241.909912</td>\n",
              "      <td>1050100.0</td>\n",
              "      <td>2241.909912</td>\n",
              "    </tr>\n",
              "    <tr>\n",
              "      <th>2021-04-15</th>\n",
              "      <td>2296.000000</td>\n",
              "      <td>2251.169922</td>\n",
              "      <td>2261.949951</td>\n",
              "      <td>2285.250000</td>\n",
              "      <td>1458700.0</td>\n",
              "      <td>2285.250000</td>\n",
              "    </tr>\n",
              "    <tr>\n",
              "      <th>2021-04-16</th>\n",
              "      <td>2294.239990</td>\n",
              "      <td>2270.919922</td>\n",
              "      <td>2289.239990</td>\n",
              "      <td>2282.750000</td>\n",
              "      <td>1313600.0</td>\n",
              "      <td>2282.750000</td>\n",
              "    </tr>\n",
              "    <tr>\n",
              "      <th>2021-04-19</th>\n",
              "      <td>2304.084961</td>\n",
              "      <td>2270.179932</td>\n",
              "      <td>2270.179932</td>\n",
              "      <td>2287.209961</td>\n",
              "      <td>970650.0</td>\n",
              "      <td>2287.209961</td>\n",
              "    </tr>\n",
              "  </tbody>\n",
              "</table>\n",
              "</div>"
            ],
            "text/plain": [
              "                   High          Low  ...     Volume    Adj Close\n",
              "Date                                  ...                        \n",
              "2021-04-13  2263.469971  2243.050049  ...  1284100.0  2254.429932\n",
              "2021-04-14  2267.429932  2236.020020  ...  1050100.0  2241.909912\n",
              "2021-04-15  2296.000000  2251.169922  ...  1458700.0  2285.250000\n",
              "2021-04-16  2294.239990  2270.919922  ...  1313600.0  2282.750000\n",
              "2021-04-19  2304.084961  2270.179932  ...   970650.0  2287.209961\n",
              "\n",
              "[5 rows x 6 columns]"
            ]
          },
          "metadata": {
            "tags": []
          },
          "execution_count": 4
        }
      ]
    },
    {
      "cell_type": "code",
      "metadata": {
        "colab": {
          "base_uri": "https://localhost:8080/"
        },
        "id": "bAoBWMwnb3YG",
        "outputId": "5014c8b0-ce4f-4fa3-8e0a-5f440d54273b"
      },
      "source": [
        "df.info()"
      ],
      "execution_count": 5,
      "outputs": [
        {
          "output_type": "stream",
          "text": [
            "<class 'pandas.core.frame.DataFrame'>\n",
            "DatetimeIndex: 4195 entries, 2004-08-19 to 2021-04-19\n",
            "Data columns (total 6 columns):\n",
            " #   Column     Non-Null Count  Dtype  \n",
            "---  ------     --------------  -----  \n",
            " 0   High       4195 non-null   float64\n",
            " 1   Low        4195 non-null   float64\n",
            " 2   Open       4195 non-null   float64\n",
            " 3   Close      4195 non-null   float64\n",
            " 4   Volume     4195 non-null   float64\n",
            " 5   Adj Close  4195 non-null   float64\n",
            "dtypes: float64(6)\n",
            "memory usage: 229.4 KB\n"
          ],
          "name": "stdout"
        }
      ]
    },
    {
      "cell_type": "code",
      "metadata": {
        "colab": {
          "base_uri": "https://localhost:8080/",
          "height": 482
        },
        "id": "RdZ-LfANb7_L",
        "outputId": "1db20dda-46a2-4e46-c100-a86caf2eface"
      },
      "source": [
        "df['Close'].plot(figsize=(20,8))"
      ],
      "execution_count": 6,
      "outputs": [
        {
          "output_type": "execute_result",
          "data": {
            "text/plain": [
              "<matplotlib.axes._subplots.AxesSubplot at 0x7fb71525db50>"
            ]
          },
          "metadata": {
            "tags": []
          },
          "execution_count": 6
        },
        {
          "output_type": "display_data",
          "data": {
            "image/png": "[encoded data removed]",
            "text/plain": [
              "<Figure size 1440x576 with 1 Axes>"
            ]
          },
          "metadata": {
            "tags": [],
            "needs_background": "light"
          }
        }
      ]
    },
    {
      "cell_type": "code",
      "metadata": {
        "colab": {
          "base_uri": "https://localhost:8080/",
          "height": 392
        },
        "id": "RPLAZ_iMb-0M",
        "outputId": "cf3f7e79-4d9f-4b35-ee3f-e4fbef4d55a0"
      },
      "source": [
        "df2 = df.iloc[3700:]\n",
        "df2['Close'].plot(figsize=(18,6), label=\"actual\")\n",
        "df2.rolling(60).mean()['Close'].plot(label='60 days rolling average')\n",
        "plt.legend()"
      ],
      "execution_count": 7,
      "outputs": [
        {
          "output_type": "execute_result",
          "data": {
            "text/plain": [
              "<matplotlib.legend.Legend at 0x7fb7154fa710>"
            ]
          },
          "metadata": {
            "tags": []
          },
          "execution_count": 7
        },
        {
          "output_type": "display_data",
          "data": {
            "image/png": "[encoded data removed]",
            "text/plain": [
              "<Figure size 1296x432 with 1 Axes>"
            ]
          },
          "metadata": {
            "tags": [],
            "needs_background": "light"
          }
        }
      ]
    },
    {
      "cell_type": "markdown",
      "metadata": {
        "id": "NXBSq2BocRrt"
      },
      "source": [
        "Here starts the all kinds of different regression models as benchmarks to the Deep Learning RNN model"
      ]
    },
    {
      "cell_type": "code",
      "metadata": {
        "id": "npozXhVfcfry"
      },
      "source": [
        "# import sklearn related modules\n",
        "from sklearn.model_selection import train_test_split\n",
        "from sklearn.linear_model import LinearRegression\n",
        "from sklearn.tree import DecisionTreeRegressor\n",
        "from sklearn.svm import SVR\n",
        "from sklearn.model_selection import KFold\n",
        "from sklearn.model_selection import cross_val_score\n",
        "from sklearn.metrics import mean_squared_error"
      ],
      "execution_count": 25,
      "outputs": []
    },
    {
      "cell_type": "code",
      "metadata": {
        "id": "yy4XeUiFcsB3"
      },
      "source": [
        "df.to_csv('stock_Google.csv')"
      ],
      "execution_count": 13,
      "outputs": []
    },
    {
      "cell_type": "code",
      "metadata": {
        "id": "HYpE2fPec0Op"
      },
      "source": [
        "df_bench = pd.read_csv('stock_Google.csv')"
      ],
      "execution_count": 14,
      "outputs": []
    },
    {
      "cell_type": "code",
      "metadata": {
        "id": "frKhfNu-eIpq"
      },
      "source": [
        "times = pd.to_datetime(df_bench.loc[:,'Date']).astype(np.int64) // (10**9)"
      ],
      "execution_count": 16,
      "outputs": []
    },
    {
      "cell_type": "code",
      "metadata": {
        "id": "YAbMx_OweK5A"
      },
      "source": [
        "X_bench = times.values.reshape(-1,1)"
      ],
      "execution_count": 17,
      "outputs": []
    },
    {
      "cell_type": "code",
      "metadata": {
        "id": "gnzesR7OefDu"
      },
      "source": [
        "y_bench = df_bench.loc[:,'Close'].values.reshape(-1,1)"
      ],
      "execution_count": 18,
      "outputs": []
    },
    {
      "cell_type": "code",
      "metadata": {
        "id": "RjjA2IpagJT2"
      },
      "source": [
        "validation_size = 0.15\n",
        "seed = 11\n",
        "X_train_bench, X_validation_bench, y_train_bench, y_validation_bench = train_test_split(X_bench, y_bench, test_size=validation_size, random_state=seed)"
      ],
      "execution_count": 21,
      "outputs": []
    },
    {
      "cell_type": "code",
      "metadata": {
        "colab": {
          "base_uri": "https://localhost:8080/"
        },
        "id": "IMbgfLlIfj0D",
        "outputId": "18e8ccb0-2aa2-4410-d498-80cc0d08a0e1"
      },
      "source": [
        "# Test options and evaluation metric\n",
        "num_folds = 20\n",
        "seed = 11\n",
        "scoring = \"r2\"\n",
        "# list for different traditional models\n",
        "models = []\n",
        "models.append((' LR ', LinearRegression()))\n",
        "models.append((' CART ', DecisionTreeRegressor()))\n",
        "models.append((' SVR ', SVR()))\n",
        "models"
      ],
      "execution_count": 22,
      "outputs": [
        {
          "output_type": "execute_result",
          "data": {
            "text/plain": [
              "[(' LR ',\n",
              "  LinearRegression(copy_X=True, fit_intercept=True, n_jobs=None, normalize=False)),\n",
              " (' CART ',\n",
              "  DecisionTreeRegressor(ccp_alpha=0.0, criterion='mse', max_depth=None,\n",
              "                        max_features=None, max_leaf_nodes=None,\n",
              "                        min_impurity_decrease=0.0, min_impurity_split=None,\n",
              "                        min_samples_leaf=1, min_samples_split=2,\n",
              "                        min_weight_fraction_leaf=0.0, presort='deprecated',\n",
              "                        random_state=None, splitter='best')),\n",
              " (' SVR ',\n",
              "  SVR(C=1.0, cache_size=200, coef0=0.0, degree=3, epsilon=0.1, gamma='scale',\n",
              "      kernel='rbf', max_iter=-1, shrinking=True, tol=0.001, verbose=False))]"
            ]
          },
          "metadata": {
            "tags": []
          },
          "execution_count": 22
        }
      ]
    },
    {
      "cell_type": "code",
      "metadata": {
        "colab": {
          "base_uri": "https://localhost:8080/"
        },
        "id": "YeqMum33f6b0",
        "outputId": "280f10ac-3a06-4b62-c15a-73771709a205"
      },
      "source": [
        "# evaluate each model in turn\n",
        "results = []\n",
        "names = []\n",
        "for name, model in models:\n",
        "    kfold = KFold(n_splits=num_folds, random_state=seed, shuffle=True)\n",
        "    cv_results = cross_val_score(model, X_train_bench, y_train_bench, cv=kfold, scoring=scoring)\n",
        "    results.append(cv_results)\n",
        "    names.append(name)\n",
        "    msg = \"%s: %f (%f)\" % (name, cv_results.mean(), cv_results.std())\n",
        "    print(msg)"
      ],
      "execution_count": 24,
      "outputs": [
        {
          "output_type": "stream",
          "text": [
            " LR : 0.821653 (0.018659)\n",
            " CART : 0.999111 (0.000305)\n"
          ],
          "name": "stdout"
        },
        {
          "output_type": "stream",
          "text": [
            "/usr/local/lib/python3.7/dist-packages/sklearn/utils/validation.py:760: DataConversionWarning: A column-vector y was passed when a 1d array was expected. Please change the shape of y to (n_samples, ), for example using ravel().\n",
            "  y = column_or_1d(y, warn=True)\n",
            "/usr/local/lib/python3.7/dist-packages/sklearn/utils/validation.py:760: DataConversionWarning: A column-vector y was passed when a 1d array was expected. Please change the shape of y to (n_samples, ), for example using ravel().\n",
            "  y = column_or_1d(y, warn=True)\n",
            "/usr/local/lib/python3.7/dist-packages/sklearn/utils/validation.py:760: DataConversionWarning: A column-vector y was passed when a 1d array was expected. Please change the shape of y to (n_samples, ), for example using ravel().\n",
            "  y = column_or_1d(y, warn=True)\n",
            "/usr/local/lib/python3.7/dist-packages/sklearn/utils/validation.py:760: DataConversionWarning: A column-vector y was passed when a 1d array was expected. Please change the shape of y to (n_samples, ), for example using ravel().\n",
            "  y = column_or_1d(y, warn=True)\n",
            "/usr/local/lib/python3.7/dist-packages/sklearn/utils/validation.py:760: DataConversionWarning: A column-vector y was passed when a 1d array was expected. Please change the shape of y to (n_samples, ), for example using ravel().\n",
            "  y = column_or_1d(y, warn=True)\n",
            "/usr/local/lib/python3.7/dist-packages/sklearn/utils/validation.py:760: DataConversionWarning: A column-vector y was passed when a 1d array was expected. Please change the shape of y to (n_samples, ), for example using ravel().\n",
            "  y = column_or_1d(y, warn=True)\n",
            "/usr/local/lib/python3.7/dist-packages/sklearn/utils/validation.py:760: DataConversionWarning: A column-vector y was passed when a 1d array was expected. Please change the shape of y to (n_samples, ), for example using ravel().\n",
            "  y = column_or_1d(y, warn=True)\n",
            "/usr/local/lib/python3.7/dist-packages/sklearn/utils/validation.py:760: DataConversionWarning: A column-vector y was passed when a 1d array was expected. Please change the shape of y to (n_samples, ), for example using ravel().\n",
            "  y = column_or_1d(y, warn=True)\n",
            "/usr/local/lib/python3.7/dist-packages/sklearn/utils/validation.py:760: DataConversionWarning: A column-vector y was passed when a 1d array was expected. Please change the shape of y to (n_samples, ), for example using ravel().\n",
            "  y = column_or_1d(y, warn=True)\n",
            "/usr/local/lib/python3.7/dist-packages/sklearn/utils/validation.py:760: DataConversionWarning: A column-vector y was passed when a 1d array was expected. Please change the shape of y to (n_samples, ), for example using ravel().\n",
            "  y = column_or_1d(y, warn=True)\n",
            "/usr/local/lib/python3.7/dist-packages/sklearn/utils/validation.py:760: DataConversionWarning: A column-vector y was passed when a 1d array was expected. Please change the shape of y to (n_samples, ), for example using ravel().\n",
            "  y = column_or_1d(y, warn=True)\n",
            "/usr/local/lib/python3.7/dist-packages/sklearn/utils/validation.py:760: DataConversionWarning: A column-vector y was passed when a 1d array was expected. Please change the shape of y to (n_samples, ), for example using ravel().\n",
            "  y = column_or_1d(y, warn=True)\n",
            "/usr/local/lib/python3.7/dist-packages/sklearn/utils/validation.py:760: DataConversionWarning: A column-vector y was passed when a 1d array was expected. Please change the shape of y to (n_samples, ), for example using ravel().\n",
            "  y = column_or_1d(y, warn=True)\n",
            "/usr/local/lib/python3.7/dist-packages/sklearn/utils/validation.py:760: DataConversionWarning: A column-vector y was passed when a 1d array was expected. Please change the shape of y to (n_samples, ), for example using ravel().\n",
            "  y = column_or_1d(y, warn=True)\n",
            "/usr/local/lib/python3.7/dist-packages/sklearn/utils/validation.py:760: DataConversionWarning: A column-vector y was passed when a 1d array was expected. Please change the shape of y to (n_samples, ), for example using ravel().\n",
            "  y = column_or_1d(y, warn=True)\n",
            "/usr/local/lib/python3.7/dist-packages/sklearn/utils/validation.py:760: DataConversionWarning: A column-vector y was passed when a 1d array was expected. Please change the shape of y to (n_samples, ), for example using ravel().\n",
            "  y = column_or_1d(y, warn=True)\n",
            "/usr/local/lib/python3.7/dist-packages/sklearn/utils/validation.py:760: DataConversionWarning: A column-vector y was passed when a 1d array was expected. Please change the shape of y to (n_samples, ), for example using ravel().\n",
            "  y = column_or_1d(y, warn=True)\n",
            "/usr/local/lib/python3.7/dist-packages/sklearn/utils/validation.py:760: DataConversionWarning: A column-vector y was passed when a 1d array was expected. Please change the shape of y to (n_samples, ), for example using ravel().\n",
            "  y = column_or_1d(y, warn=True)\n",
            "/usr/local/lib/python3.7/dist-packages/sklearn/utils/validation.py:760: DataConversionWarning: A column-vector y was passed when a 1d array was expected. Please change the shape of y to (n_samples, ), for example using ravel().\n",
            "  y = column_or_1d(y, warn=True)\n",
            "/usr/local/lib/python3.7/dist-packages/sklearn/utils/validation.py:760: DataConversionWarning: A column-vector y was passed when a 1d array was expected. Please change the shape of y to (n_samples, ), for example using ravel().\n",
            "  y = column_or_1d(y, warn=True)\n"
          ],
          "name": "stderr"
        },
        {
          "output_type": "stream",
          "text": [
            " SVR : 0.844230 (0.029382)\n"
          ],
          "name": "stdout"
        }
      ]
    },
    {
      "cell_type": "markdown",
      "metadata": {
        "id": "ZcmRIRGEg9Qg"
      },
      "source": [
        "Which means the decision tree model performs best, so we would choose that, and also take a look at the linear regression model"
      ]
    },
    {
      "cell_type": "code",
      "metadata": {
        "colab": {
          "base_uri": "https://localhost:8080/"
        },
        "id": "fiLqv5WmelYU",
        "outputId": "a800c63a-2dd5-4588-ef12-2d52bfaf3e3e"
      },
      "source": [
        "# Define models\n",
        "model_tree = DecisionTreeRegressor()\n",
        "model_linear = LinearRegression()\n",
        "# trainning\n",
        "model_tree.fit(X_train_bench, y_train_bench)\n",
        "model_linear.fit(X_train_bench, y_train_bench)\n",
        "# predictions based on the whole dataset\n",
        "predictions_tree = model_tree.predict(X_bench)\n",
        "predictions_linear = model_linear.predict(X_bench)\n",
        "print(mean_squared_error(y_bench, predictions_tree))\n",
        "print(mean_squared_error(y_bench, predictions_linear))"
      ],
      "execution_count": 26,
      "outputs": [
        {
          "output_type": "stream",
          "text": [
            "19.725400896818584\n",
            "35548.27690473474\n"
          ],
          "name": "stdout"
        }
      ]
    },
    {
      "cell_type": "code",
      "metadata": {
        "colab": {
          "base_uri": "https://localhost:8080/",
          "height": 496
        },
        "id": "92aKjPnFiOJk",
        "outputId": "21f8c714-63d0-4fa8-b9c2-bc52a279a58f"
      },
      "source": [
        "# compare plots of the actual prices with predictions on both trainning and testing data(randomized)\n",
        "fig= plt.figure(figsize=(20,8))\n",
        "plt.plot(X_bench,y_bench, label='actual')\n",
        "plt.plot(X_bench,predictions_tree, label='tree prediction')\n",
        "plt.legend()\n",
        "plt.show()"
      ],
      "execution_count": 29,
      "outputs": [
        {
          "output_type": "display_data",
          "data": {
            "image/png": "[encoded data removed]",
            "text/plain": [
              "<Figure size 1440x576 with 1 Axes>"
            ]
          },
          "metadata": {
            "tags": [],
            "needs_background": "light"
          }
        }
      ]
    },
    {
      "cell_type": "code",
      "metadata": {
        "colab": {
          "base_uri": "https://localhost:8080/",
          "height": 496
        },
        "id": "7fgw0RTQiRpL",
        "outputId": "9745b2d4-4f94-46da-f209-2db152788f41"
      },
      "source": [
        "# compare plots of the actual prices with predictions on both trainning and testing data(randomized)\n",
        "fig= plt.figure(figsize=(20,8))\n",
        "plt.plot(X_bench,y_bench, label='actual')\n",
        "plt.plot(X_bench,predictions_linear, label='linear regression')\n",
        "plt.legend()\n",
        "plt.show()"
      ],
      "execution_count": 30,
      "outputs": [
        {
          "output_type": "display_data",
          "data": {
            "image/png": "[encoded data removed]",
            "text/plain": [
              "<Figure size 1440x576 with 1 Axes>"
            ]
          },
          "metadata": {
            "tags": [],
            "needs_background": "light"
          }
        }
      ]
    },
    {
      "cell_type": "markdown",
      "metadata": {
        "id": "Mo5MwiqHjbQs"
      },
      "source": [
        "But what if we don't mix the time-series data? But the past as trainning while the future as testing?"
      ]
    },
    {
      "cell_type": "code",
      "metadata": {
        "id": "ZkTJribNjNb-"
      },
      "source": [
        "train_size = 4000\n",
        "X_train_bench, X_test_bench = X_bench[:train_size,:], X_bench[train_size:,:]\n",
        "y_train_bench, y_test_bench = y_bench[:train_size,:], y_bench[train_size:,:]"
      ],
      "execution_count": 32,
      "outputs": []
    },
    {
      "cell_type": "code",
      "metadata": {
        "colab": {
          "base_uri": "https://localhost:8080/"
        },
        "id": "kr9sIectkH5a",
        "outputId": "11dfc249-5317-4fb8-f512-bad1b0e20938"
      },
      "source": [
        "# Define models\n",
        "model_tree = DecisionTreeRegressor()\n",
        "model_linear = LinearRegression()\n",
        "# trainning\n",
        "model_tree.fit(X_train_bench, y_train_bench)\n",
        "model_linear.fit(X_train_bench, y_train_bench)\n",
        "# predictions based on the whole dataset\n",
        "predictions_tree = model_tree.predict(X_bench)\n",
        "predictions_linear = model_linear.predict(X_bench)\n",
        "print(mean_squared_error(y_bench, predictions_tree))\n",
        "print(mean_squared_error(y_bench, predictions_linear))"
      ],
      "execution_count": 33,
      "outputs": [
        {
          "output_type": "stream",
          "text": [
            "5404.133196081447\n",
            "38625.04085388988\n"
          ],
          "name": "stdout"
        }
      ]
    },
    {
      "cell_type": "code",
      "metadata": {
        "colab": {
          "base_uri": "https://localhost:8080/",
          "height": 496
        },
        "id": "cDZCV45BkZHv",
        "outputId": "cbef28ad-8685-4cfc-b6b1-0ec32957a529"
      },
      "source": [
        "# compare plots of the actual prices with predictions on both trainning and testing data(randomized)\n",
        "fig= plt.figure(figsize=(20,8))\n",
        "plt.plot(X_bench,y_bench, label='actual')\n",
        "plt.plot(X_bench,predictions_tree, label='tree prediction for the future')\n",
        "plt.legend()\n",
        "plt.show()"
      ],
      "execution_count": 34,
      "outputs": [
        {
          "output_type": "display_data",
          "data": {
            "image/png": "[encoded data removed]",
            "text/plain": [
              "<Figure size 1440x576 with 1 Axes>"
            ]
          },
          "metadata": {
            "tags": [],
            "needs_background": "light"
          }
        }
      ]
    },
    {
      "cell_type": "code",
      "metadata": {
        "colab": {
          "base_uri": "https://localhost:8080/",
          "height": 496
        },
        "id": "5pz8XbpdkhNG",
        "outputId": "a73a1dad-2c6a-46dd-d07c-febaefd01871"
      },
      "source": [
        "fig= plt.figure(figsize=(20,8))\n",
        "plt.plot(X_bench,y_bench, label='actual')\n",
        "plt.plot(X_bench,predictions_linear, label='linear regression for the future')\n",
        "plt.legend()\n",
        "plt.show()"
      ],
      "execution_count": 35,
      "outputs": [
        {
          "output_type": "display_data",
          "data": {
            "image/png": "[encoded data removed]",
            "text/plain": [
              "<Figure size 1440x576 with 1 Axes>"
            ]
          },
          "metadata": {
            "tags": [],
            "needs_background": "light"
          }
        }
      ]
    },
    {
      "cell_type": "markdown",
      "metadata": {
        "id": "JFg3x94Mk2MM"
      },
      "source": [
        "Now I will go ahead and train LSTM-based RNN model using Keras and see how it compares to the benchmarked traditional models"
      ]
    },
    {
      "cell_type": "code",
      "metadata": {
        "id": "3PP06F6TkpGU"
      },
      "source": [
        "from sklearn.preprocessing import MinMaxScaler\n",
        "from tensorflow.keras.models import Sequential\n",
        "from tensorflow.keras.layers import Dense, Dropout, LSTM"
      ],
      "execution_count": 36,
      "outputs": []
    },
    {
      "cell_type": "code",
      "metadata": {
        "id": "3ak1g77NlNq7"
      },
      "source": [
        "# First prepare and preprocess the input data, since LSTM models are sensive to the values\n",
        "scaler = MinMaxScaler(feature_range=(0, 1))\n",
        "my_data = scaler.fit_transform(df['Close'].values.reshape(-1,1))"
      ],
      "execution_count": 37,
      "outputs": []
    },
    {
      "cell_type": "code",
      "metadata": {
        "id": "7lyyc3a7lcEO"
      },
      "source": [
        "# this creating feature function is critical, showing LSTM remembers the past!\n",
        "def create_feature(data, days):\n",
        "    X, y = [], []\n",
        "    for i in range(days, len(data)):\n",
        "        X.append(data[i-days:i, 0])\n",
        "        y.append(data[i, 0])\n",
        "    return np.array(X), np.array(y)"
      ],
      "execution_count": 38,
      "outputs": []
    },
    {
      "cell_type": "code",
      "metadata": {
        "id": "NI9CfWNZnabw"
      },
      "source": [
        "days= 180\n",
        "X, y = create_feature(my_data, days)"
      ],
      "execution_count": 130,
      "outputs": []
    },
    {
      "cell_type": "code",
      "metadata": {
        "colab": {
          "base_uri": "https://localhost:8080/"
        },
        "id": "VjguNO5Mn5oL",
        "outputId": "cab31e88-e8b2-46ec-aa37-1de710006d5d"
      },
      "source": [
        "y.shape"
      ],
      "execution_count": 131,
      "outputs": [
        {
          "output_type": "execute_result",
          "data": {
            "text/plain": [
              "(4015,)"
            ]
          },
          "metadata": {
            "tags": []
          },
          "execution_count": 131
        }
      ]
    },
    {
      "cell_type": "code",
      "metadata": {
        "id": "IPbiX-RcloFk"
      },
      "source": [
        "train_size = 3500\n",
        "X_train, X_test = X[:train_size,:], X[train_size:,:]\n",
        "y_train, y_test = y[:train_size], y[train_size:]"
      ],
      "execution_count": 85,
      "outputs": []
    },
    {
      "cell_type": "code",
      "metadata": {
        "colab": {
          "base_uri": "https://localhost:8080/"
        },
        "id": "XfmdY3Sc8tKS",
        "outputId": "f47a557b-1339-4386-b158-ac45e2feb875"
      },
      "source": [
        "y_test[:5]"
      ],
      "execution_count": 86,
      "outputs": [
        {
          "output_type": "execute_result",
          "data": {
            "text/plain": [
              "array([0.45855787, 0.46278196, 0.46111915, 0.45985859, 0.45343973])"
            ]
          },
          "metadata": {
            "tags": []
          },
          "execution_count": 86
        }
      ]
    },
    {
      "cell_type": "code",
      "metadata": {
        "colab": {
          "base_uri": "https://localhost:8080/"
        },
        "id": "sb_ZA501oMXq",
        "outputId": "e28268d4-f08b-48c0-cf8e-797841722265"
      },
      "source": [
        "y_test.shape"
      ],
      "execution_count": 48,
      "outputs": [
        {
          "output_type": "execute_result",
          "data": {
            "text/plain": [
              "(575,)"
            ]
          },
          "metadata": {
            "tags": []
          },
          "execution_count": 48
        }
      ]
    },
    {
      "cell_type": "code",
      "metadata": {
        "id": "tZ16KF8BoOjF"
      },
      "source": [
        "# reshape X and y train so it fit to the input data for Tensorflow\n",
        "X_train = X_train.reshape(X_train.shape[0], X_train.shape[1], 1)\n",
        "y_train = y_train.reshape(-1,1)\n",
        "X_test = X_test.reshape(X_test.shape[0], X_test.shape[1], 1)\n",
        "y_test = y_test.reshape(-1,1)"
      ],
      "execution_count": 88,
      "outputs": []
    },
    {
      "cell_type": "code",
      "metadata": {
        "id": "G0vG6g6opBJD"
      },
      "source": [
        "def create_RNN(shape, units):\n",
        "    model = Sequential()\n",
        "    model.add(LSTM(units=units, return_sequences=True, input_shape=shape))\n",
        "    model.add(LSTM(units=units, return_sequences=True))\n",
        "    model.add(LSTM(units=units))\n",
        "    model.add(Dense(units=1))\n",
        "    return model"
      ],
      "execution_count": 52,
      "outputs": []
    },
    {
      "cell_type": "code",
      "metadata": {
        "id": "60PxeyaNpYA5"
      },
      "source": [
        "# creatiing model\n",
        "my_model = create_RNN((X_train.shape[1],1), 50)\n",
        "\n",
        "# compiling RNN\n",
        "my_model.compile(optimizer='adam', loss='mean_squared_error')\n"
      ],
      "execution_count": 54,
      "outputs": []
    },
    {
      "cell_type": "code",
      "metadata": {
        "colab": {
          "base_uri": "https://localhost:8080/"
        },
        "id": "ipBNaCVppxFH",
        "outputId": "1a60f108-2714-4d22-b990-6f856d17c219"
      },
      "source": [
        "my_model.summary()"
      ],
      "execution_count": 55,
      "outputs": [
        {
          "output_type": "stream",
          "text": [
            "Model: \"sequential\"\n",
            "_________________________________________________________________\n",
            "Layer (type)                 Output Shape              Param #   \n",
            "=================================================================\n",
            "lstm (LSTM)                  (None, 120, 50)           10400     \n",
            "_________________________________________________________________\n",
            "lstm_1 (LSTM)                (None, 120, 50)           20200     \n",
            "_________________________________________________________________\n",
            "lstm_2 (LSTM)                (None, 50)                20200     \n",
            "_________________________________________________________________\n",
            "dense (Dense)                (None, 1)                 51        \n",
            "=================================================================\n",
            "Total params: 50,851\n",
            "Trainable params: 50,851\n",
            "Non-trainable params: 0\n",
            "_________________________________________________________________\n"
          ],
          "name": "stdout"
        }
      ]
    },
    {
      "cell_type": "code",
      "metadata": {
        "colab": {
          "base_uri": "https://localhost:8080/"
        },
        "id": "DEg27lCkp1JA",
        "outputId": "746ee373-25ba-4422-fe50-9c96c6202538"
      },
      "source": [
        "# train the model\n",
        "my_model.fit(X_train,y_train,epochs=200, batch_size=32)"
      ],
      "execution_count": 56,
      "outputs": [
        {
          "output_type": "stream",
          "text": [
            "Epoch 1/200\n",
            "110/110 [==============================] - 22s 155ms/step - loss: 0.0067\n",
            "Epoch 2/200\n",
            "110/110 [==============================] - 18s 163ms/step - loss: 1.0647e-04\n",
            "Epoch 3/200\n",
            "110/110 [==============================] - 18s 163ms/step - loss: 1.1262e-04\n",
            "Epoch 4/200\n",
            "110/110 [==============================] - 18s 163ms/step - loss: 1.0996e-04\n",
            "Epoch 5/200\n",
            "110/110 [==============================] - 18s 163ms/step - loss: 1.0553e-04\n",
            "Epoch 6/200\n",
            "110/110 [==============================] - 18s 164ms/step - loss: 9.1313e-05\n",
            "Epoch 7/200\n",
            "110/110 [==============================] - 18s 162ms/step - loss: 1.0489e-04\n",
            "Epoch 8/200\n",
            "110/110 [==============================] - 18s 162ms/step - loss: 8.9190e-05\n",
            "Epoch 9/200\n",
            "110/110 [==============================] - 18s 164ms/step - loss: 8.8833e-05\n",
            "Epoch 10/200\n",
            "110/110 [==============================] - 18s 165ms/step - loss: 8.6841e-05\n",
            "Epoch 11/200\n",
            "110/110 [==============================] - 18s 165ms/step - loss: 1.0562e-04\n",
            "Epoch 12/200\n",
            "110/110 [==============================] - 18s 164ms/step - loss: 7.0056e-05\n",
            "Epoch 13/200\n",
            "110/110 [==============================] - 18s 164ms/step - loss: 1.0720e-04\n",
            "Epoch 14/200\n",
            "110/110 [==============================] - 18s 165ms/step - loss: 7.2412e-05\n",
            "Epoch 15/200\n",
            "110/110 [==============================] - 18s 164ms/step - loss: 7.0975e-05\n",
            "Epoch 16/200\n",
            "110/110 [==============================] - 18s 166ms/step - loss: 8.0092e-05\n",
            "Epoch 17/200\n",
            "110/110 [==============================] - 18s 164ms/step - loss: 8.4959e-05\n",
            "Epoch 18/200\n",
            "110/110 [==============================] - 18s 166ms/step - loss: 9.6762e-05\n",
            "Epoch 19/200\n",
            "110/110 [==============================] - 18s 165ms/step - loss: 6.5048e-05\n",
            "Epoch 20/200\n",
            "110/110 [==============================] - 18s 163ms/step - loss: 6.6708e-05\n",
            "Epoch 21/200\n",
            "110/110 [==============================] - 18s 164ms/step - loss: 8.1732e-05\n",
            "Epoch 22/200\n",
            "110/110 [==============================] - 18s 164ms/step - loss: 5.7787e-05\n",
            "Epoch 23/200\n",
            "110/110 [==============================] - 18s 163ms/step - loss: 5.4634e-05\n",
            "Epoch 24/200\n",
            "110/110 [==============================] - 18s 163ms/step - loss: 4.5044e-05\n",
            "Epoch 25/200\n",
            "110/110 [==============================] - 18s 162ms/step - loss: 5.1132e-05\n",
            "Epoch 26/200\n",
            "110/110 [==============================] - 18s 164ms/step - loss: 5.2238e-05\n",
            "Epoch 27/200\n",
            "110/110 [==============================] - 18s 163ms/step - loss: 3.9415e-05\n",
            "Epoch 28/200\n",
            "110/110 [==============================] - 18s 163ms/step - loss: 5.4086e-05\n",
            "Epoch 29/200\n",
            "110/110 [==============================] - 18s 164ms/step - loss: 5.0043e-05\n",
            "Epoch 30/200\n",
            "110/110 [==============================] - 18s 163ms/step - loss: 4.4911e-05\n",
            "Epoch 31/200\n",
            "110/110 [==============================] - 18s 164ms/step - loss: 3.9969e-05\n",
            "Epoch 32/200\n",
            "110/110 [==============================] - 18s 162ms/step - loss: 4.6030e-05\n",
            "Epoch 33/200\n",
            "110/110 [==============================] - 18s 162ms/step - loss: 3.3490e-05\n",
            "Epoch 34/200\n",
            "110/110 [==============================] - 18s 162ms/step - loss: 3.0513e-05\n",
            "Epoch 35/200\n",
            "110/110 [==============================] - 18s 163ms/step - loss: 3.0840e-05\n",
            "Epoch 36/200\n",
            "110/110 [==============================] - 18s 164ms/step - loss: 2.8447e-05\n",
            "Epoch 37/200\n",
            "110/110 [==============================] - 18s 164ms/step - loss: 3.3687e-05\n",
            "Epoch 38/200\n",
            "110/110 [==============================] - 18s 163ms/step - loss: 2.8115e-05\n",
            "Epoch 39/200\n",
            "110/110 [==============================] - 18s 163ms/step - loss: 3.0331e-05\n",
            "Epoch 40/200\n",
            "110/110 [==============================] - 18s 163ms/step - loss: 2.6325e-05\n",
            "Epoch 41/200\n",
            "110/110 [==============================] - 18s 163ms/step - loss: 2.9418e-05\n",
            "Epoch 42/200\n",
            "110/110 [==============================] - 18s 164ms/step - loss: 2.6050e-05\n",
            "Epoch 43/200\n",
            "110/110 [==============================] - 18s 163ms/step - loss: 4.0576e-05\n",
            "Epoch 44/200\n",
            "110/110 [==============================] - 18s 164ms/step - loss: 2.3288e-05\n",
            "Epoch 45/200\n",
            "110/110 [==============================] - 18s 164ms/step - loss: 2.6352e-05\n",
            "Epoch 46/200\n",
            "110/110 [==============================] - 18s 164ms/step - loss: 3.6899e-05\n",
            "Epoch 47/200\n",
            "110/110 [==============================] - 18s 164ms/step - loss: 2.2956e-05\n",
            "Epoch 48/200\n",
            "110/110 [==============================] - 18s 163ms/step - loss: 2.0813e-05\n",
            "Epoch 49/200\n",
            "110/110 [==============================] - 18s 163ms/step - loss: 5.0288e-05\n",
            "Epoch 50/200\n",
            "110/110 [==============================] - 18s 162ms/step - loss: 2.9695e-05\n",
            "Epoch 51/200\n",
            "110/110 [==============================] - 18s 162ms/step - loss: 2.3225e-05\n",
            "Epoch 52/200\n",
            "110/110 [==============================] - 18s 162ms/step - loss: 2.8373e-05\n",
            "Epoch 53/200\n",
            "110/110 [==============================] - 18s 164ms/step - loss: 2.6005e-05\n",
            "Epoch 54/200\n",
            "110/110 [==============================] - 18s 166ms/step - loss: 1.9797e-05\n",
            "Epoch 55/200\n",
            "110/110 [==============================] - 18s 165ms/step - loss: 2.3139e-05\n",
            "Epoch 56/200\n",
            "110/110 [==============================] - 18s 165ms/step - loss: 1.7788e-05\n",
            "Epoch 57/200\n",
            "110/110 [==============================] - 18s 163ms/step - loss: 2.1618e-05\n",
            "Epoch 58/200\n",
            "110/110 [==============================] - 18s 161ms/step - loss: 1.9444e-05\n",
            "Epoch 59/200\n",
            "110/110 [==============================] - 18s 162ms/step - loss: 1.8816e-05\n",
            "Epoch 60/200\n",
            "110/110 [==============================] - 18s 164ms/step - loss: 2.3542e-05\n",
            "Epoch 61/200\n",
            "110/110 [==============================] - 18s 165ms/step - loss: 2.1458e-05\n",
            "Epoch 62/200\n",
            "110/110 [==============================] - 18s 166ms/step - loss: 2.7638e-05\n",
            "Epoch 63/200\n",
            "110/110 [==============================] - 18s 166ms/step - loss: 2.0729e-05\n",
            "Epoch 64/200\n",
            "110/110 [==============================] - 18s 164ms/step - loss: 2.3491e-05\n",
            "Epoch 65/200\n",
            "110/110 [==============================] - 18s 164ms/step - loss: 2.0314e-05\n",
            "Epoch 66/200\n",
            "110/110 [==============================] - 18s 168ms/step - loss: 1.7807e-05\n",
            "Epoch 67/200\n",
            "110/110 [==============================] - 18s 164ms/step - loss: 1.8710e-05\n",
            "Epoch 68/200\n",
            "110/110 [==============================] - 18s 165ms/step - loss: 2.2970e-05\n",
            "Epoch 69/200\n",
            "110/110 [==============================] - 18s 165ms/step - loss: 3.3780e-05\n",
            "Epoch 70/200\n",
            "110/110 [==============================] - 18s 166ms/step - loss: 2.8943e-05\n",
            "Epoch 71/200\n",
            "110/110 [==============================] - 18s 163ms/step - loss: 2.3970e-05\n",
            "Epoch 72/200\n",
            "110/110 [==============================] - 18s 165ms/step - loss: 2.0768e-05\n",
            "Epoch 73/200\n",
            "110/110 [==============================] - 18s 164ms/step - loss: 2.3062e-05\n",
            "Epoch 74/200\n",
            "110/110 [==============================] - 18s 164ms/step - loss: 2.0210e-05\n",
            "Epoch 75/200\n",
            "110/110 [==============================] - 18s 164ms/step - loss: 2.2317e-05\n",
            "Epoch 76/200\n",
            "110/110 [==============================] - 18s 165ms/step - loss: 1.9577e-05\n",
            "Epoch 77/200\n",
            "110/110 [==============================] - 19s 169ms/step - loss: 2.4060e-05\n",
            "Epoch 78/200\n",
            "110/110 [==============================] - 18s 165ms/step - loss: 3.4763e-05\n",
            "Epoch 79/200\n",
            "110/110 [==============================] - 18s 165ms/step - loss: 1.7418e-05\n",
            "Epoch 80/200\n",
            "110/110 [==============================] - 18s 164ms/step - loss: 2.6586e-05\n",
            "Epoch 81/200\n",
            "110/110 [==============================] - 18s 162ms/step - loss: 2.5208e-05\n",
            "Epoch 82/200\n",
            "110/110 [==============================] - 18s 164ms/step - loss: 2.9939e-05\n",
            "Epoch 83/200\n",
            "110/110 [==============================] - 19s 169ms/step - loss: 2.4120e-05\n",
            "Epoch 84/200\n",
            "110/110 [==============================] - 18s 167ms/step - loss: 1.6885e-05\n",
            "Epoch 85/200\n",
            "110/110 [==============================] - 18s 164ms/step - loss: 2.0539e-05\n",
            "Epoch 86/200\n",
            "110/110 [==============================] - 18s 168ms/step - loss: 2.6400e-05\n",
            "Epoch 87/200\n",
            "110/110 [==============================] - 18s 166ms/step - loss: 2.1381e-05\n",
            "Epoch 88/200\n",
            "110/110 [==============================] - 18s 167ms/step - loss: 1.8243e-05\n",
            "Epoch 89/200\n",
            "110/110 [==============================] - 18s 163ms/step - loss: 2.0175e-05\n",
            "Epoch 90/200\n",
            "110/110 [==============================] - 18s 164ms/step - loss: 1.8242e-05\n",
            "Epoch 91/200\n",
            "110/110 [==============================] - 18s 163ms/step - loss: 1.7824e-05\n",
            "Epoch 92/200\n",
            "110/110 [==============================] - 18s 162ms/step - loss: 1.7406e-05\n",
            "Epoch 93/200\n",
            "110/110 [==============================] - 18s 164ms/step - loss: 1.8000e-05\n",
            "Epoch 94/200\n",
            "110/110 [==============================] - 18s 164ms/step - loss: 2.1205e-05\n",
            "Epoch 95/200\n",
            "110/110 [==============================] - 18s 164ms/step - loss: 1.9599e-05\n",
            "Epoch 96/200\n",
            "110/110 [==============================] - 18s 165ms/step - loss: 2.0247e-05\n",
            "Epoch 97/200\n",
            "110/110 [==============================] - 18s 163ms/step - loss: 1.9420e-05\n",
            "Epoch 98/200\n",
            "110/110 [==============================] - 18s 163ms/step - loss: 1.9547e-05\n",
            "Epoch 99/200\n",
            "110/110 [==============================] - 18s 165ms/step - loss: 1.8678e-05\n",
            "Epoch 100/200\n",
            "110/110 [==============================] - 18s 166ms/step - loss: 2.2551e-05\n",
            "Epoch 101/200\n",
            "110/110 [==============================] - 18s 165ms/step - loss: 1.6630e-05\n",
            "Epoch 102/200\n",
            "110/110 [==============================] - 18s 165ms/step - loss: 2.0002e-05\n",
            "Epoch 103/200\n",
            "110/110 [==============================] - 18s 166ms/step - loss: 1.7070e-05\n",
            "Epoch 104/200\n",
            "110/110 [==============================] - 18s 163ms/step - loss: 1.7790e-05\n",
            "Epoch 105/200\n",
            "110/110 [==============================] - 18s 163ms/step - loss: 2.7146e-05\n",
            "Epoch 106/200\n",
            "110/110 [==============================] - 18s 166ms/step - loss: 1.7390e-05\n",
            "Epoch 107/200\n",
            "110/110 [==============================] - 18s 165ms/step - loss: 1.9907e-05\n",
            "Epoch 108/200\n",
            "110/110 [==============================] - 18s 164ms/step - loss: 2.5177e-05\n",
            "Epoch 109/200\n",
            "110/110 [==============================] - 18s 166ms/step - loss: 1.9152e-05\n",
            "Epoch 110/200\n",
            "110/110 [==============================] - 18s 166ms/step - loss: 1.7502e-05\n",
            "Epoch 111/200\n",
            "110/110 [==============================] - 18s 165ms/step - loss: 1.7611e-05\n",
            "Epoch 112/200\n",
            "110/110 [==============================] - 18s 164ms/step - loss: 1.4912e-05\n",
            "Epoch 113/200\n",
            "110/110 [==============================] - 18s 163ms/step - loss: 1.7967e-05\n",
            "Epoch 114/200\n",
            "110/110 [==============================] - 18s 162ms/step - loss: 1.8152e-05\n",
            "Epoch 115/200\n",
            "110/110 [==============================] - 18s 162ms/step - loss: 2.1400e-05\n",
            "Epoch 116/200\n",
            "110/110 [==============================] - 18s 163ms/step - loss: 1.8378e-05\n",
            "Epoch 117/200\n",
            "110/110 [==============================] - 18s 163ms/step - loss: 1.9108e-05\n",
            "Epoch 118/200\n",
            "110/110 [==============================] - 18s 162ms/step - loss: 1.7656e-05\n",
            "Epoch 119/200\n",
            "110/110 [==============================] - 18s 164ms/step - loss: 2.0216e-05\n",
            "Epoch 120/200\n",
            "110/110 [==============================] - 18s 164ms/step - loss: 1.6960e-05\n",
            "Epoch 121/200\n",
            "110/110 [==============================] - 18s 163ms/step - loss: 1.7254e-05\n",
            "Epoch 122/200\n",
            "110/110 [==============================] - 18s 163ms/step - loss: 1.6594e-05\n",
            "Epoch 123/200\n",
            "110/110 [==============================] - 18s 162ms/step - loss: 1.7316e-05\n",
            "Epoch 124/200\n",
            "110/110 [==============================] - 18s 164ms/step - loss: 1.5130e-05\n",
            "Epoch 125/200\n",
            "110/110 [==============================] - 18s 162ms/step - loss: 2.0663e-05\n",
            "Epoch 126/200\n",
            "110/110 [==============================] - 18s 164ms/step - loss: 1.8782e-05\n",
            "Epoch 127/200\n",
            "110/110 [==============================] - 18s 164ms/step - loss: 1.8118e-05\n",
            "Epoch 128/200\n",
            "110/110 [==============================] - 18s 166ms/step - loss: 1.7473e-05\n",
            "Epoch 129/200\n",
            "110/110 [==============================] - 19s 169ms/step - loss: 1.5943e-05\n",
            "Epoch 130/200\n",
            "110/110 [==============================] - 18s 166ms/step - loss: 1.9321e-05\n",
            "Epoch 131/200\n",
            "110/110 [==============================] - 18s 165ms/step - loss: 1.9180e-05\n",
            "Epoch 132/200\n",
            "110/110 [==============================] - 18s 165ms/step - loss: 1.9522e-05\n",
            "Epoch 133/200\n",
            "110/110 [==============================] - 18s 165ms/step - loss: 1.7451e-05\n",
            "Epoch 134/200\n",
            "110/110 [==============================] - 18s 168ms/step - loss: 1.5660e-05\n",
            "Epoch 135/200\n",
            "110/110 [==============================] - 18s 163ms/step - loss: 1.8341e-05\n",
            "Epoch 136/200\n",
            "110/110 [==============================] - 18s 167ms/step - loss: 1.6068e-05\n",
            "Epoch 137/200\n",
            "110/110 [==============================] - 18s 168ms/step - loss: 1.7892e-05\n",
            "Epoch 138/200\n",
            "110/110 [==============================] - 18s 164ms/step - loss: 2.0520e-05\n",
            "Epoch 139/200\n",
            "110/110 [==============================] - 18s 167ms/step - loss: 1.8524e-05\n",
            "Epoch 140/200\n",
            "110/110 [==============================] - 18s 167ms/step - loss: 2.2106e-05\n",
            "Epoch 141/200\n",
            "110/110 [==============================] - 18s 167ms/step - loss: 2.0145e-05\n",
            "Epoch 142/200\n",
            "110/110 [==============================] - 18s 165ms/step - loss: 1.9919e-05\n",
            "Epoch 143/200\n",
            "110/110 [==============================] - 19s 172ms/step - loss: 1.6837e-05\n",
            "Epoch 144/200\n",
            "110/110 [==============================] - 18s 165ms/step - loss: 1.9283e-05\n",
            "Epoch 145/200\n",
            "110/110 [==============================] - 18s 165ms/step - loss: 1.7824e-05\n",
            "Epoch 146/200\n",
            "110/110 [==============================] - 18s 166ms/step - loss: 2.0190e-05\n",
            "Epoch 147/200\n",
            "110/110 [==============================] - 18s 164ms/step - loss: 1.9355e-05\n",
            "Epoch 148/200\n",
            "110/110 [==============================] - 18s 165ms/step - loss: 1.9086e-05\n",
            "Epoch 149/200\n",
            "110/110 [==============================] - 18s 164ms/step - loss: 1.7572e-05\n",
            "Epoch 150/200\n",
            "110/110 [==============================] - 18s 164ms/step - loss: 1.8342e-05\n",
            "Epoch 151/200\n",
            "110/110 [==============================] - 18s 164ms/step - loss: 1.9873e-05\n",
            "Epoch 152/200\n",
            "110/110 [==============================] - 18s 163ms/step - loss: 1.6546e-05\n",
            "Epoch 153/200\n",
            "110/110 [==============================] - 18s 164ms/step - loss: 1.8368e-05\n",
            "Epoch 154/200\n",
            "110/110 [==============================] - 18s 163ms/step - loss: 1.5725e-05\n",
            "Epoch 155/200\n",
            "110/110 [==============================] - 18s 164ms/step - loss: 1.6959e-05\n",
            "Epoch 156/200\n",
            "110/110 [==============================] - 18s 164ms/step - loss: 1.6269e-05\n",
            "Epoch 157/200\n",
            "110/110 [==============================] - 18s 163ms/step - loss: 1.5067e-05\n",
            "Epoch 158/200\n",
            "110/110 [==============================] - 18s 163ms/step - loss: 2.0341e-05\n",
            "Epoch 159/200\n",
            "110/110 [==============================] - 18s 164ms/step - loss: 1.8070e-05\n",
            "Epoch 160/200\n",
            "110/110 [==============================] - 18s 164ms/step - loss: 1.8040e-05\n",
            "Epoch 161/200\n",
            "110/110 [==============================] - 18s 165ms/step - loss: 1.7495e-05\n",
            "Epoch 162/200\n",
            "110/110 [==============================] - 19s 169ms/step - loss: 2.2994e-05\n",
            "Epoch 163/200\n",
            "110/110 [==============================] - 18s 167ms/step - loss: 1.7690e-05\n",
            "Epoch 164/200\n",
            "110/110 [==============================] - 18s 164ms/step - loss: 1.8320e-05\n",
            "Epoch 165/200\n",
            "110/110 [==============================] - 18s 166ms/step - loss: 1.4394e-05\n",
            "Epoch 166/200\n",
            "110/110 [==============================] - 18s 165ms/step - loss: 1.9950e-05\n",
            "Epoch 167/200\n",
            "110/110 [==============================] - 18s 165ms/step - loss: 1.7617e-05\n",
            "Epoch 168/200\n",
            "110/110 [==============================] - 18s 166ms/step - loss: 1.8843e-05\n",
            "Epoch 169/200\n",
            "110/110 [==============================] - 18s 165ms/step - loss: 2.2587e-05\n",
            "Epoch 170/200\n",
            "110/110 [==============================] - 18s 165ms/step - loss: 1.5848e-05\n",
            "Epoch 171/200\n",
            "110/110 [==============================] - 18s 164ms/step - loss: 1.7270e-05\n",
            "Epoch 172/200\n",
            "110/110 [==============================] - 18s 165ms/step - loss: 1.5384e-05\n",
            "Epoch 173/200\n",
            "110/110 [==============================] - 18s 164ms/step - loss: 1.7891e-05\n",
            "Epoch 174/200\n",
            "110/110 [==============================] - 18s 163ms/step - loss: 1.8150e-05\n",
            "Epoch 175/200\n",
            "110/110 [==============================] - 18s 164ms/step - loss: 1.5052e-05\n",
            "Epoch 176/200\n",
            "110/110 [==============================] - 18s 164ms/step - loss: 1.6405e-05\n",
            "Epoch 177/200\n",
            "110/110 [==============================] - 18s 165ms/step - loss: 1.8141e-05\n",
            "Epoch 178/200\n",
            "110/110 [==============================] - 18s 167ms/step - loss: 1.9381e-05\n",
            "Epoch 179/200\n",
            "110/110 [==============================] - 18s 166ms/step - loss: 1.5451e-05\n",
            "Epoch 180/200\n",
            "110/110 [==============================] - 18s 165ms/step - loss: 1.8075e-05\n",
            "Epoch 181/200\n",
            "110/110 [==============================] - 18s 165ms/step - loss: 1.8415e-05\n",
            "Epoch 182/200\n",
            "110/110 [==============================] - 18s 166ms/step - loss: 2.0246e-05\n",
            "Epoch 183/200\n",
            "110/110 [==============================] - 18s 165ms/step - loss: 1.5277e-05\n",
            "Epoch 184/200\n",
            "110/110 [==============================] - 18s 165ms/step - loss: 1.8447e-05\n",
            "Epoch 185/200\n",
            "110/110 [==============================] - 18s 164ms/step - loss: 1.5435e-05\n",
            "Epoch 186/200\n",
            "110/110 [==============================] - 18s 165ms/step - loss: 1.8193e-05\n",
            "Epoch 187/200\n",
            "110/110 [==============================] - 18s 165ms/step - loss: 1.7216e-05\n",
            "Epoch 188/200\n",
            "110/110 [==============================] - 18s 165ms/step - loss: 1.4587e-05\n",
            "Epoch 189/200\n",
            "110/110 [==============================] - 18s 164ms/step - loss: 1.5364e-05\n",
            "Epoch 190/200\n",
            "110/110 [==============================] - 18s 166ms/step - loss: 1.6508e-05\n",
            "Epoch 191/200\n",
            "110/110 [==============================] - 18s 166ms/step - loss: 1.6436e-05\n",
            "Epoch 192/200\n",
            "110/110 [==============================] - 18s 167ms/step - loss: 1.6466e-05\n",
            "Epoch 193/200\n",
            "110/110 [==============================] - 18s 165ms/step - loss: 2.0339e-05\n",
            "Epoch 194/200\n",
            "110/110 [==============================] - 18s 164ms/step - loss: 1.9164e-05\n",
            "Epoch 195/200\n",
            "110/110 [==============================] - 18s 166ms/step - loss: 1.5860e-05\n",
            "Epoch 196/200\n",
            "110/110 [==============================] - 18s 164ms/step - loss: 1.9726e-05\n",
            "Epoch 197/200\n",
            "110/110 [==============================] - 18s 166ms/step - loss: 1.5836e-05\n",
            "Epoch 198/200\n",
            "110/110 [==============================] - 18s 164ms/step - loss: 1.4491e-05\n",
            "Epoch 199/200\n",
            "110/110 [==============================] - 18s 166ms/step - loss: 2.1586e-05\n",
            "Epoch 200/200\n",
            "110/110 [==============================] - 18s 164ms/step - loss: 1.7338e-05\n"
          ],
          "name": "stdout"
        },
        {
          "output_type": "execute_result",
          "data": {
            "text/plain": [
              "<tensorflow.python.keras.callbacks.History at 0x7fb6c34a8ad0>"
            ]
          },
          "metadata": {
            "tags": []
          },
          "execution_count": 56
        }
      ]
    },
    {
      "cell_type": "code",
      "metadata": {
        "id": "H1ikPf2sp6Tu"
      },
      "source": [
        "test_pred = my_model.predict(X_test)"
      ],
      "execution_count": 89,
      "outputs": []
    },
    {
      "cell_type": "code",
      "metadata": {
        "colab": {
          "base_uri": "https://localhost:8080/"
        },
        "id": "IK5Hn83391uM",
        "outputId": "4d65e479-27e3-4436-c5cc-f3b4ad850a1b"
      },
      "source": [
        "smse = np.sqrt(mean_squared_error(y_test,test_pred))\n",
        "print(smse)"
      ],
      "execution_count": 91,
      "outputs": [
        {
          "output_type": "stream",
          "text": [
            "0.02268463886067224\n"
          ],
          "name": "stdout"
        }
      ]
    },
    {
      "cell_type": "code",
      "metadata": {
        "colab": {
          "base_uri": "https://localhost:8080/"
        },
        "id": "2I6vomVX9yT4",
        "outputId": "4b905de4-5a09-40e4-b9d8-ef810d869011"
      },
      "source": [
        "test_pred_back = scaler.inverse_transform(test_pred)\n",
        "y_test_back =scaler.inverse_transform(y_test)\n",
        "relate_diff = abs(np.sum(test_pred_back-y_test_back))/np.sum(y_test_back[:,0])\n",
        "print(relate_diff)"
      ],
      "execution_count": 93,
      "outputs": [
        {
          "output_type": "stream",
          "text": [
            "0.01874442475476819\n"
          ],
          "name": "stdout"
        }
      ]
    },
    {
      "cell_type": "code",
      "metadata": {
        "colab": {
          "base_uri": "https://localhost:8080/",
          "height": 282
        },
        "id": "WqUYrCF942ST",
        "outputId": "951a80ad-5ac2-4665-88e8-da22676704d1"
      },
      "source": [
        "plt.plot(df['Close'].values[train_size+days:], label=\"actual\")\n",
        "plt.plot(test_pred, label='prediction')\n",
        "plt.legend()"
      ],
      "execution_count": 67,
      "outputs": [
        {
          "output_type": "execute_result",
          "data": {
            "text/plain": [
              "<matplotlib.legend.Legend at 0x7fb6c2323110>"
            ]
          },
          "metadata": {
            "tags": []
          },
          "execution_count": 67
        },
        {
          "output_type": "display_data",
          "data": {
            "image/png": "[encoded data removed]",
            "text/plain": [
              "<Figure size 432x288 with 1 Axes>"
            ]
          },
          "metadata": {
            "tags": [],
            "needs_background": "light"
          }
        }
      ]
    },
    {
      "cell_type": "code",
      "metadata": {
        "id": "ADG14jNo6SUW"
      },
      "source": [
        "# Now this important function is used to predict the \"unknown\" future\n",
        "def predict_future(model,future_day,input_X):\n",
        "    theshape = input_X.shape\n",
        "    if future_day == 1:\n",
        "        pred = model.predict(input_X)\n",
        "        return scaler.inverse_transform(pred)[:,0]\n",
        "    output = []\n",
        "    for day in range(future_day):\n",
        "        if day == future_day - 1:\n",
        "            pred = model.predict(input_X)\n",
        "            pred_inverse = scaler.inverse_transform(pred)[:,0]\n",
        "            output.append(pred_inverse.tolist())\n",
        "        else:\n",
        "            pred = model.predict(input_X)        \n",
        "            pred_inverse = scaler.inverse_transform(pred)[:,0]\n",
        "            output.append(pred_inverse.tolist())\n",
        "            input_X = np.append(input_X[:,1:,:],pred).reshape(theshape)\n",
        "\n",
        "    return np.array(output)"
      ],
      "execution_count": 124,
      "outputs": []
    },
    {
      "cell_type": "code",
      "metadata": {
        "id": "X2Bbg0JlHVws"
      },
      "source": [
        "X_train_future = X.reshape(X.shape[0], X.shape[1], 1)\n",
        "y_train_future = y.reshape(-1,1)"
      ],
      "execution_count": 132,
      "outputs": []
    },
    {
      "cell_type": "code",
      "metadata": {
        "id": "6fjNbeX1Kapl"
      },
      "source": [
        "# creatiing model\n",
        "my_model_future = create_RNN((X_train_future.shape[1],1), 50)\n",
        "\n",
        "# compiling RNN\n",
        "my_model_future.compile(optimizer='adam', loss='mean_squared_error')"
      ],
      "execution_count": 137,
      "outputs": []
    },
    {
      "cell_type": "code",
      "metadata": {
        "colab": {
          "base_uri": "https://localhost:8080/"
        },
        "id": "SxTce20iKiHT",
        "outputId": "81beb629-98c9-499f-e121-6bd3074284b4"
      },
      "source": [
        "# train the model\n",
        "my_model_future.fit(X_train_future,y_train_future,epochs=100, batch_size=32)"
      ],
      "execution_count": 138,
      "outputs": [
        {
          "output_type": "stream",
          "text": [
            "Epoch 1/100\n",
            "126/126 [==============================] - 34s 230ms/step - loss: 0.0104\n",
            "Epoch 2/100\n",
            "126/126 [==============================] - 31s 243ms/step - loss: 3.0101e-04\n",
            "Epoch 3/100\n",
            "126/126 [==============================] - 31s 243ms/step - loss: 2.5007e-04\n",
            "Epoch 4/100\n",
            "126/126 [==============================] - 30s 242ms/step - loss: 3.1054e-04\n",
            "Epoch 5/100\n",
            "126/126 [==============================] - 31s 245ms/step - loss: 2.5282e-04\n",
            "Epoch 6/100\n",
            "126/126 [==============================] - 31s 248ms/step - loss: 2.3910e-04\n",
            "Epoch 7/100\n",
            "126/126 [==============================] - 31s 250ms/step - loss: 1.9267e-04\n",
            "Epoch 8/100\n",
            "126/126 [==============================] - 31s 247ms/step - loss: 2.1518e-04\n",
            "Epoch 9/100\n",
            "126/126 [==============================] - 31s 249ms/step - loss: 1.6031e-04\n",
            "Epoch 10/100\n",
            "126/126 [==============================] - 31s 248ms/step - loss: 1.8265e-04\n",
            "Epoch 11/100\n",
            "126/126 [==============================] - 31s 246ms/step - loss: 1.7879e-04\n",
            "Epoch 12/100\n",
            "126/126 [==============================] - 31s 247ms/step - loss: 1.4772e-04\n",
            "Epoch 13/100\n",
            "126/126 [==============================] - 31s 245ms/step - loss: 1.5253e-04\n",
            "Epoch 14/100\n",
            "126/126 [==============================] - 31s 246ms/step - loss: 1.2864e-04\n",
            "Epoch 15/100\n",
            "126/126 [==============================] - 31s 246ms/step - loss: 1.3368e-04\n",
            "Epoch 16/100\n",
            "126/126 [==============================] - 31s 247ms/step - loss: 1.2278e-04\n",
            "Epoch 17/100\n",
            "126/126 [==============================] - 31s 246ms/step - loss: 1.4441e-04\n",
            "Epoch 18/100\n",
            "126/126 [==============================] - 31s 244ms/step - loss: 1.5489e-04\n",
            "Epoch 19/100\n",
            "126/126 [==============================] - 31s 246ms/step - loss: 1.7573e-04\n",
            "Epoch 20/100\n",
            "126/126 [==============================] - 31s 246ms/step - loss: 1.0976e-04\n",
            "Epoch 21/100\n",
            "126/126 [==============================] - 31s 244ms/step - loss: 1.0150e-04\n",
            "Epoch 22/100\n",
            "126/126 [==============================] - 31s 246ms/step - loss: 1.1587e-04\n",
            "Epoch 23/100\n",
            "126/126 [==============================] - 31s 244ms/step - loss: 9.2800e-05\n",
            "Epoch 24/100\n",
            "126/126 [==============================] - 31s 243ms/step - loss: 8.9745e-05\n",
            "Epoch 25/100\n",
            "126/126 [==============================] - 31s 245ms/step - loss: 1.1852e-04\n",
            "Epoch 26/100\n",
            "126/126 [==============================] - 31s 249ms/step - loss: 7.5385e-05\n",
            "Epoch 27/100\n",
            "126/126 [==============================] - 31s 247ms/step - loss: 7.0644e-05\n",
            "Epoch 28/100\n",
            "126/126 [==============================] - 31s 247ms/step - loss: 9.4356e-05\n",
            "Epoch 29/100\n",
            "126/126 [==============================] - 31s 248ms/step - loss: 5.7314e-05\n",
            "Epoch 30/100\n",
            "126/126 [==============================] - 31s 246ms/step - loss: 6.2718e-05\n",
            "Epoch 31/100\n",
            "126/126 [==============================] - 31s 245ms/step - loss: 8.7219e-05\n",
            "Epoch 32/100\n",
            "126/126 [==============================] - 31s 248ms/step - loss: 6.8448e-05\n",
            "Epoch 33/100\n",
            "126/126 [==============================] - 31s 247ms/step - loss: 6.0121e-05\n",
            "Epoch 34/100\n",
            "126/126 [==============================] - 31s 248ms/step - loss: 4.9561e-05\n",
            "Epoch 35/100\n",
            "126/126 [==============================] - 31s 245ms/step - loss: 5.6491e-05\n",
            "Epoch 36/100\n",
            "126/126 [==============================] - 31s 246ms/step - loss: 5.1779e-05\n",
            "Epoch 37/100\n",
            "126/126 [==============================] - 32s 251ms/step - loss: 5.5009e-05\n",
            "Epoch 38/100\n",
            "126/126 [==============================] - 32s 252ms/step - loss: 4.9527e-05\n",
            "Epoch 39/100\n",
            "126/126 [==============================] - 32s 251ms/step - loss: 7.8243e-05\n",
            "Epoch 40/100\n",
            "126/126 [==============================] - 31s 247ms/step - loss: 4.9145e-05\n",
            "Epoch 41/100\n",
            "126/126 [==============================] - 31s 246ms/step - loss: 7.1695e-05\n",
            "Epoch 42/100\n",
            "126/126 [==============================] - 31s 246ms/step - loss: 5.3496e-05\n",
            "Epoch 43/100\n",
            "126/126 [==============================] - 31s 248ms/step - loss: 4.9637e-05\n",
            "Epoch 44/100\n",
            "126/126 [==============================] - 31s 247ms/step - loss: 5.2615e-05\n",
            "Epoch 45/100\n",
            "126/126 [==============================] - 31s 249ms/step - loss: 4.9485e-05\n",
            "Epoch 46/100\n",
            "126/126 [==============================] - 31s 248ms/step - loss: 5.4988e-05\n",
            "Epoch 47/100\n",
            "126/126 [==============================] - 32s 250ms/step - loss: 6.2245e-05\n",
            "Epoch 48/100\n",
            "126/126 [==============================] - 31s 247ms/step - loss: 5.4153e-05\n",
            "Epoch 49/100\n",
            "126/126 [==============================] - 31s 250ms/step - loss: 5.1294e-05\n",
            "Epoch 50/100\n",
            "126/126 [==============================] - 31s 247ms/step - loss: 5.1131e-05\n",
            "Epoch 51/100\n",
            "126/126 [==============================] - 31s 245ms/step - loss: 6.8138e-05\n",
            "Epoch 52/100\n",
            "126/126 [==============================] - 31s 246ms/step - loss: 5.6455e-05\n",
            "Epoch 53/100\n",
            "126/126 [==============================] - 31s 248ms/step - loss: 5.1157e-05\n",
            "Epoch 54/100\n",
            "126/126 [==============================] - 31s 246ms/step - loss: 6.5383e-05\n",
            "Epoch 55/100\n",
            "126/126 [==============================] - 31s 248ms/step - loss: 6.6501e-05\n",
            "Epoch 56/100\n",
            "126/126 [==============================] - 31s 248ms/step - loss: 4.8119e-05\n",
            "Epoch 57/100\n",
            "126/126 [==============================] - 31s 249ms/step - loss: 7.3378e-05\n",
            "Epoch 58/100\n",
            "126/126 [==============================] - 31s 245ms/step - loss: 5.2935e-05\n",
            "Epoch 59/100\n",
            "126/126 [==============================] - 31s 246ms/step - loss: 4.4853e-05\n",
            "Epoch 60/100\n",
            "126/126 [==============================] - 31s 248ms/step - loss: 5.2754e-05\n",
            "Epoch 61/100\n",
            "126/126 [==============================] - 31s 246ms/step - loss: 5.0737e-05\n",
            "Epoch 62/100\n",
            "126/126 [==============================] - 31s 247ms/step - loss: 5.1833e-05\n",
            "Epoch 63/100\n",
            "126/126 [==============================] - 31s 247ms/step - loss: 4.6789e-05\n",
            "Epoch 64/100\n",
            "126/126 [==============================] - 31s 250ms/step - loss: 7.1044e-05\n",
            "Epoch 65/100\n",
            "126/126 [==============================] - 32s 251ms/step - loss: 4.1959e-05\n",
            "Epoch 66/100\n",
            "126/126 [==============================] - 31s 247ms/step - loss: 5.9891e-05\n",
            "Epoch 67/100\n",
            "126/126 [==============================] - 31s 247ms/step - loss: 5.8141e-05\n",
            "Epoch 68/100\n",
            "126/126 [==============================] - 31s 248ms/step - loss: 5.6309e-05\n",
            "Epoch 69/100\n",
            "126/126 [==============================] - 31s 248ms/step - loss: 4.2856e-05\n",
            "Epoch 70/100\n",
            "126/126 [==============================] - 31s 247ms/step - loss: 4.7654e-05\n",
            "Epoch 71/100\n",
            "126/126 [==============================] - 31s 245ms/step - loss: 3.9518e-05\n",
            "Epoch 72/100\n",
            "126/126 [==============================] - 31s 247ms/step - loss: 4.7750e-05\n",
            "Epoch 73/100\n",
            "126/126 [==============================] - 31s 247ms/step - loss: 4.2904e-05\n",
            "Epoch 74/100\n",
            "126/126 [==============================] - 31s 246ms/step - loss: 4.5576e-05\n",
            "Epoch 75/100\n",
            "126/126 [==============================] - 31s 242ms/step - loss: 6.3785e-05\n",
            "Epoch 76/100\n",
            "126/126 [==============================] - 31s 246ms/step - loss: 5.5621e-05\n",
            "Epoch 77/100\n",
            "126/126 [==============================] - 31s 245ms/step - loss: 4.6865e-05\n",
            "Epoch 78/100\n",
            "126/126 [==============================] - 31s 248ms/step - loss: 4.1166e-05\n",
            "Epoch 79/100\n",
            "126/126 [==============================] - 31s 249ms/step - loss: 4.2516e-05\n",
            "Epoch 80/100\n",
            "126/126 [==============================] - 31s 246ms/step - loss: 6.9260e-05\n",
            "Epoch 81/100\n",
            "126/126 [==============================] - 31s 246ms/step - loss: 4.1546e-05\n",
            "Epoch 82/100\n",
            "126/126 [==============================] - 31s 245ms/step - loss: 4.7763e-05\n",
            "Epoch 83/100\n",
            "126/126 [==============================] - 31s 246ms/step - loss: 4.4061e-05\n",
            "Epoch 84/100\n",
            "126/126 [==============================] - 31s 245ms/step - loss: 4.4973e-05\n",
            "Epoch 85/100\n",
            "126/126 [==============================] - 31s 246ms/step - loss: 5.2992e-05\n",
            "Epoch 86/100\n",
            "126/126 [==============================] - 31s 244ms/step - loss: 4.2525e-05\n",
            "Epoch 87/100\n",
            "126/126 [==============================] - 31s 245ms/step - loss: 4.6798e-05\n",
            "Epoch 88/100\n",
            "126/126 [==============================] - 31s 245ms/step - loss: 4.5221e-05\n",
            "Epoch 89/100\n",
            "126/126 [==============================] - 31s 246ms/step - loss: 4.0970e-05\n",
            "Epoch 90/100\n",
            "126/126 [==============================] - 31s 245ms/step - loss: 5.8284e-05\n",
            "Epoch 91/100\n",
            "126/126 [==============================] - 31s 245ms/step - loss: 5.1822e-05\n",
            "Epoch 92/100\n",
            "126/126 [==============================] - 31s 244ms/step - loss: 5.1715e-05\n",
            "Epoch 93/100\n",
            "126/126 [==============================] - 31s 247ms/step - loss: 4.4952e-05\n",
            "Epoch 94/100\n",
            "126/126 [==============================] - 31s 248ms/step - loss: 6.6109e-05\n",
            "Epoch 95/100\n",
            "126/126 [==============================] - 31s 245ms/step - loss: 4.7836e-05\n",
            "Epoch 96/100\n",
            "126/126 [==============================] - 31s 246ms/step - loss: 4.5062e-05\n",
            "Epoch 97/100\n",
            "126/126 [==============================] - 31s 250ms/step - loss: 4.7351e-05\n",
            "Epoch 98/100\n",
            "126/126 [==============================] - 32s 251ms/step - loss: 4.0985e-05\n",
            "Epoch 99/100\n",
            "126/126 [==============================] - 32s 253ms/step - loss: 4.6701e-05\n",
            "Epoch 100/100\n",
            "126/126 [==============================] - 32s 250ms/step - loss: 5.0300e-05\n"
          ],
          "name": "stdout"
        },
        {
          "output_type": "execute_result",
          "data": {
            "text/plain": [
              "<tensorflow.python.keras.callbacks.History at 0x7fb6bb90db10>"
            ]
          },
          "metadata": {
            "tags": []
          },
          "execution_count": 138
        }
      ]
    },
    {
      "cell_type": "code",
      "metadata": {
        "colab": {
          "base_uri": "https://localhost:8080/"
        },
        "id": "rLzd_wMp_Twb",
        "outputId": "b72e2cf0-a697-4084-9828-168acc854d11"
      },
      "source": [
        "days = 180\n",
        "X_future = X_train_future[-1,:,:].reshape(1,days,1)\n",
        "d_future = 1\n",
        "my_pred = predict_future(my_model_future,d_future,X_future)\n",
        "print(my_pred)"
      ],
      "execution_count": 151,
      "outputs": [
        {
          "output_type": "stream",
          "text": [
            "[2311.4888]\n"
          ],
          "name": "stdout"
        }
      ]
    },
    {
      "cell_type": "code",
      "metadata": {
        "colab": {
          "base_uri": "https://localhost:8080/"
        },
        "id": "2vdBx-cJZ9w8",
        "outputId": "4b8ba8a3-0e8c-4b83-ee8e-3ad625d8ecda"
      },
      "source": [
        "days = 180\n",
        "X_future = X_train_future[-1,:,:].reshape(1,days,1)\n",
        "d_future = 7\n",
        "my_pred = predict_future(my_model_future,d_future,X_future)\n",
        "print(my_pred)"
      ],
      "execution_count": 152,
      "outputs": [
        {
          "output_type": "stream",
          "text": [
            "[[2311.48876953]\n",
            " [2336.20483398]\n",
            " [2358.8671875 ]\n",
            " [2379.64208984]\n",
            " [2398.94189453]\n",
            " [2417.18164062]\n",
            " [2434.62329102]]\n"
          ],
          "name": "stdout"
        }
      ]
    },
    {
      "cell_type": "code",
      "metadata": {
        "colab": {
          "base_uri": "https://localhost:8080/",
          "height": 282
        },
        "id": "Ngnt06NG_8sh",
        "outputId": "79914c07-8e97-4c08-fd88-d50388b40085"
      },
      "source": [
        "d_future = 180\n",
        "my_pred = predict_future(my_model_future,d_future,X_future)\n",
        "plt.plot(my_pred)"
      ],
      "execution_count": 155,
      "outputs": [
        {
          "output_type": "execute_result",
          "data": {
            "text/plain": [
              "[<matplotlib.lines.Line2D at 0x7fb6bf0f3790>]"
            ]
          },
          "metadata": {
            "tags": []
          },
          "execution_count": 155
        },
        {
          "output_type": "display_data",
          "data": {
            "image/png": "[encoded data removed]",
            "text/plain": [
              "<Figure size 432x288 with 1 Axes>"
            ]
          },
          "metadata": {
            "tags": [],
            "needs_background": "light"
          }
        }
      ]
    },
    {
      "cell_type": "code",
      "metadata": {
        "id": "yec_dvKWIrli"
      },
      "source": [
        "df = web.DataReader('MSFT', 'yahoo', start='2003-01-01', end='now')"
      ],
      "execution_count": 156,
      "outputs": []
    },
    {
      "cell_type": "code",
      "metadata": {
        "colab": {
          "base_uri": "https://localhost:8080/",
          "height": 225
        },
        "id": "7Die2nPYbFl_",
        "outputId": "fae38c6c-ef75-4a58-f86a-ba0d8ffd3b8a"
      },
      "source": [
        "df.head()"
      ],
      "execution_count": 157,
      "outputs": [
        {
          "output_type": "execute_result",
          "data": {
            "text/html": [
              "<div>\n",
              "<style scoped>\n",
              "    .dataframe tbody tr th:only-of-type {\n",
              "        vertical-align: middle;\n",
              "    }\n",
              "\n",
              "    .dataframe tbody tr th {\n",
              "        vertical-align: top;\n",
              "    }\n",
              "\n",
              "    .dataframe thead th {\n",
              "        text-align: right;\n",
              "    }\n",
              "</style>\n",
              "<table border=\"1\" class=\"dataframe\">\n",
              "  <thead>\n",
              "    <tr style=\"text-align: right;\">\n",
              "      <th></th>\n",
              "      <th>High</th>\n",
              "      <th>Low</th>\n",
              "      <th>Open</th>\n",
              "      <th>Close</th>\n",
              "      <th>Volume</th>\n",
              "      <th>Adj Close</th>\n",
              "    </tr>\n",
              "    <tr>\n",
              "      <th>Date</th>\n",
              "      <th></th>\n",
              "      <th></th>\n",
              "      <th></th>\n",
              "      <th></th>\n",
              "      <th></th>\n",
              "      <th></th>\n",
              "    </tr>\n",
              "  </thead>\n",
              "  <tbody>\n",
              "    <tr>\n",
              "      <th>2003-01-02</th>\n",
              "      <td>26.875000</td>\n",
              "      <td>25.855000</td>\n",
              "      <td>26.150000</td>\n",
              "      <td>26.860001</td>\n",
              "      <td>67025200.0</td>\n",
              "      <td>17.060148</td>\n",
              "    </tr>\n",
              "    <tr>\n",
              "      <th>2003-01-03</th>\n",
              "      <td>26.900000</td>\n",
              "      <td>26.440001</td>\n",
              "      <td>26.795000</td>\n",
              "      <td>26.895000</td>\n",
              "      <td>55546800.0</td>\n",
              "      <td>17.082380</td>\n",
              "    </tr>\n",
              "    <tr>\n",
              "      <th>2003-01-06</th>\n",
              "      <td>27.615000</td>\n",
              "      <td>26.900000</td>\n",
              "      <td>27.010000</td>\n",
              "      <td>27.385000</td>\n",
              "      <td>59456200.0</td>\n",
              "      <td>17.393604</td>\n",
              "    </tr>\n",
              "    <tr>\n",
              "      <th>2003-01-07</th>\n",
              "      <td>28.004999</td>\n",
              "      <td>27.340000</td>\n",
              "      <td>27.459999</td>\n",
              "      <td>27.900000</td>\n",
              "      <td>80517400.0</td>\n",
              "      <td>17.720707</td>\n",
              "    </tr>\n",
              "    <tr>\n",
              "      <th>2003-01-08</th>\n",
              "      <td>27.775000</td>\n",
              "      <td>27.055000</td>\n",
              "      <td>27.684999</td>\n",
              "      <td>27.120001</td>\n",
              "      <td>64566000.0</td>\n",
              "      <td>17.225286</td>\n",
              "    </tr>\n",
              "  </tbody>\n",
              "</table>\n",
              "</div>"
            ],
            "text/plain": [
              "                 High        Low       Open      Close      Volume  Adj Close\n",
              "Date                                                                         \n",
              "2003-01-02  26.875000  25.855000  26.150000  26.860001  67025200.0  17.060148\n",
              "2003-01-03  26.900000  26.440001  26.795000  26.895000  55546800.0  17.082380\n",
              "2003-01-06  27.615000  26.900000  27.010000  27.385000  59456200.0  17.393604\n",
              "2003-01-07  28.004999  27.340000  27.459999  27.900000  80517400.0  17.720707\n",
              "2003-01-08  27.775000  27.055000  27.684999  27.120001  64566000.0  17.225286"
            ]
          },
          "metadata": {
            "tags": []
          },
          "execution_count": 157
        }
      ]
    },
    {
      "cell_type": "code",
      "metadata": {
        "colab": {
          "base_uri": "https://localhost:8080/",
          "height": 225
        },
        "id": "Pl_AvpdybHEM",
        "outputId": "40e0ad4a-2cc1-4c06-e3cb-61d6a32fcd33"
      },
      "source": [
        "df.tail()"
      ],
      "execution_count": 158,
      "outputs": [
        {
          "output_type": "execute_result",
          "data": {
            "text/html": [
              "<div>\n",
              "<style scoped>\n",
              "    .dataframe tbody tr th:only-of-type {\n",
              "        vertical-align: middle;\n",
              "    }\n",
              "\n",
              "    .dataframe tbody tr th {\n",
              "        vertical-align: top;\n",
              "    }\n",
              "\n",
              "    .dataframe thead th {\n",
              "        text-align: right;\n",
              "    }\n",
              "</style>\n",
              "<table border=\"1\" class=\"dataframe\">\n",
              "  <thead>\n",
              "    <tr style=\"text-align: right;\">\n",
              "      <th></th>\n",
              "      <th>High</th>\n",
              "      <th>Low</th>\n",
              "      <th>Open</th>\n",
              "      <th>Close</th>\n",
              "      <th>Volume</th>\n",
              "      <th>Adj Close</th>\n",
              "    </tr>\n",
              "    <tr>\n",
              "      <th>Date</th>\n",
              "      <th></th>\n",
              "      <th></th>\n",
              "      <th></th>\n",
              "      <th></th>\n",
              "      <th></th>\n",
              "      <th></th>\n",
              "    </tr>\n",
              "  </thead>\n",
              "  <tbody>\n",
              "    <tr>\n",
              "      <th>2021-04-13</th>\n",
              "      <td>259.190002</td>\n",
              "      <td>256.829987</td>\n",
              "      <td>257.260010</td>\n",
              "      <td>258.489990</td>\n",
              "      <td>23837500.0</td>\n",
              "      <td>258.489990</td>\n",
              "    </tr>\n",
              "    <tr>\n",
              "      <th>2021-04-14</th>\n",
              "      <td>258.829987</td>\n",
              "      <td>255.160004</td>\n",
              "      <td>257.480011</td>\n",
              "      <td>255.589996</td>\n",
              "      <td>23070900.0</td>\n",
              "      <td>255.589996</td>\n",
              "    </tr>\n",
              "    <tr>\n",
              "      <th>2021-04-15</th>\n",
              "      <td>259.929993</td>\n",
              "      <td>257.730011</td>\n",
              "      <td>257.929993</td>\n",
              "      <td>259.500000</td>\n",
              "      <td>25627500.0</td>\n",
              "      <td>259.500000</td>\n",
              "    </tr>\n",
              "    <tr>\n",
              "      <th>2021-04-16</th>\n",
              "      <td>261.000000</td>\n",
              "      <td>257.600006</td>\n",
              "      <td>259.470001</td>\n",
              "      <td>260.739990</td>\n",
              "      <td>24856900.0</td>\n",
              "      <td>260.739990</td>\n",
              "    </tr>\n",
              "    <tr>\n",
              "      <th>2021-04-19</th>\n",
              "      <td>261.480011</td>\n",
              "      <td>257.821014</td>\n",
              "      <td>260.190002</td>\n",
              "      <td>258.739990</td>\n",
              "      <td>21470615.0</td>\n",
              "      <td>258.739990</td>\n",
              "    </tr>\n",
              "  </tbody>\n",
              "</table>\n",
              "</div>"
            ],
            "text/plain": [
              "                  High         Low  ...      Volume   Adj Close\n",
              "Date                                ...                        \n",
              "2021-04-13  259.190002  256.829987  ...  23837500.0  258.489990\n",
              "2021-04-14  258.829987  255.160004  ...  23070900.0  255.589996\n",
              "2021-04-15  259.929993  257.730011  ...  25627500.0  259.500000\n",
              "2021-04-16  261.000000  257.600006  ...  24856900.0  260.739990\n",
              "2021-04-19  261.480011  257.821014  ...  21470615.0  258.739990\n",
              "\n",
              "[5 rows x 6 columns]"
            ]
          },
          "metadata": {
            "tags": []
          },
          "execution_count": 158
        }
      ]
    },
    {
      "cell_type": "code",
      "metadata": {
        "id": "T1h5_oFnbIjM"
      },
      "source": [
        "scaler = MinMaxScaler(feature_range=(0, 1))\n",
        "my_data = scaler.fit_transform(df['Close'].values.reshape(-1,1))"
      ],
      "execution_count": 159,
      "outputs": []
    },
    {
      "cell_type": "code",
      "metadata": {
        "id": "pjkiv0fbbT8R"
      },
      "source": [
        "days= 180\n",
        "X, y = create_feature(my_data, days)"
      ],
      "execution_count": 160,
      "outputs": []
    },
    {
      "cell_type": "code",
      "metadata": {
        "id": "Z_DgdJmabjvx"
      },
      "source": [
        "X_train_future = X.reshape(X.shape[0], X.shape[1], 1)\n",
        "y_train_future = y.reshape(-1,1)"
      ],
      "execution_count": 161,
      "outputs": []
    },
    {
      "cell_type": "code",
      "metadata": {
        "id": "iTW3XJkhboO-"
      },
      "source": [
        "# creatiing model\n",
        "my_model_future = create_RNN((X_train_future.shape[1],1), 50)\n",
        "\n",
        "# compiling RNN\n",
        "my_model_future.compile(optimizer='adam', loss='mean_squared_error')"
      ],
      "execution_count": 162,
      "outputs": []
    },
    {
      "cell_type": "code",
      "metadata": {
        "colab": {
          "base_uri": "https://localhost:8080/"
        },
        "id": "T4DWQhjcbsH6",
        "outputId": "e17ef8a8-ceb7-4e91-cb6b-91ed79c947f8"
      },
      "source": [
        "my_model_future.fit(X_train_future,y_train_future,epochs=50, batch_size=32)"
      ],
      "execution_count": 163,
      "outputs": [
        {
          "output_type": "stream",
          "text": [
            "Epoch 1/50\n",
            "139/139 [==============================] - 38s 237ms/step - loss: 0.0060\n",
            "Epoch 2/50\n",
            "139/139 [==============================] - 34s 248ms/step - loss: 2.1506e-04\n",
            "Epoch 3/50\n",
            "139/139 [==============================] - 35s 249ms/step - loss: 2.0827e-04\n",
            "Epoch 4/50\n",
            "139/139 [==============================] - 35s 250ms/step - loss: 2.6571e-04\n",
            "Epoch 5/50\n",
            "139/139 [==============================] - 35s 250ms/step - loss: 1.8478e-04\n",
            "Epoch 6/50\n",
            "139/139 [==============================] - 35s 251ms/step - loss: 2.2242e-04\n",
            "Epoch 7/50\n",
            "139/139 [==============================] - 35s 253ms/step - loss: 1.6086e-04\n",
            "Epoch 8/50\n",
            "139/139 [==============================] - 35s 253ms/step - loss: 1.9193e-04\n",
            "Epoch 9/50\n",
            "139/139 [==============================] - 35s 249ms/step - loss: 1.7503e-04\n",
            "Epoch 10/50\n",
            "139/139 [==============================] - 35s 249ms/step - loss: 1.5803e-04\n",
            "Epoch 11/50\n",
            "139/139 [==============================] - 35s 252ms/step - loss: 1.2546e-04\n",
            "Epoch 12/50\n",
            "139/139 [==============================] - 35s 252ms/step - loss: 1.0673e-04\n",
            "Epoch 13/50\n",
            "139/139 [==============================] - 35s 251ms/step - loss: 1.0863e-04\n",
            "Epoch 14/50\n",
            "139/139 [==============================] - 35s 249ms/step - loss: 1.8352e-04\n",
            "Epoch 15/50\n",
            "139/139 [==============================] - 35s 249ms/step - loss: 9.5295e-05\n",
            "Epoch 16/50\n",
            "139/139 [==============================] - 35s 249ms/step - loss: 9.0019e-05\n",
            "Epoch 17/50\n",
            "139/139 [==============================] - 35s 250ms/step - loss: 9.4275e-05\n",
            "Epoch 18/50\n",
            "139/139 [==============================] - 35s 249ms/step - loss: 7.2284e-05\n",
            "Epoch 19/50\n",
            "139/139 [==============================] - 35s 250ms/step - loss: 7.6115e-05\n",
            "Epoch 20/50\n",
            "139/139 [==============================] - 35s 249ms/step - loss: 8.0206e-05\n",
            "Epoch 21/50\n",
            "139/139 [==============================] - 34s 248ms/step - loss: 8.9531e-05\n",
            "Epoch 22/50\n",
            "139/139 [==============================] - 35s 249ms/step - loss: 6.1332e-05\n",
            "Epoch 23/50\n",
            "139/139 [==============================] - 34s 246ms/step - loss: 8.4360e-05\n",
            "Epoch 24/50\n",
            "139/139 [==============================] - 35s 248ms/step - loss: 7.5110e-05\n",
            "Epoch 25/50\n",
            "139/139 [==============================] - 35s 251ms/step - loss: 1.3531e-04\n",
            "Epoch 26/50\n",
            "139/139 [==============================] - 35s 250ms/step - loss: 6.7150e-05\n",
            "Epoch 27/50\n",
            "139/139 [==============================] - 35s 249ms/step - loss: 5.4289e-05\n",
            "Epoch 28/50\n",
            "139/139 [==============================] - 34s 248ms/step - loss: 5.5140e-05\n",
            "Epoch 29/50\n",
            "139/139 [==============================] - 35s 248ms/step - loss: 1.0940e-04\n",
            "Epoch 30/50\n",
            "139/139 [==============================] - 34s 247ms/step - loss: 6.5532e-05\n",
            "Epoch 31/50\n",
            "139/139 [==============================] - 35s 250ms/step - loss: 5.8526e-05\n",
            "Epoch 32/50\n",
            "139/139 [==============================] - 35s 252ms/step - loss: 4.6465e-05\n",
            "Epoch 33/50\n",
            "139/139 [==============================] - 34s 248ms/step - loss: 5.6498e-05\n",
            "Epoch 34/50\n",
            "139/139 [==============================] - 35s 251ms/step - loss: 5.6388e-05\n",
            "Epoch 35/50\n",
            "139/139 [==============================] - 34s 248ms/step - loss: 6.4769e-05\n",
            "Epoch 36/50\n",
            "139/139 [==============================] - 35s 248ms/step - loss: 5.5372e-05\n",
            "Epoch 37/50\n",
            "139/139 [==============================] - 35s 249ms/step - loss: 6.6595e-05\n",
            "Epoch 38/50\n",
            "139/139 [==============================] - 34s 248ms/step - loss: 5.4905e-05\n",
            "Epoch 39/50\n",
            "139/139 [==============================] - 34s 248ms/step - loss: 4.7320e-05\n",
            "Epoch 40/50\n",
            "139/139 [==============================] - 34s 247ms/step - loss: 6.4564e-05\n",
            "Epoch 41/50\n",
            "139/139 [==============================] - 35s 250ms/step - loss: 7.3615e-05\n",
            "Epoch 42/50\n",
            "139/139 [==============================] - 35s 252ms/step - loss: 6.4799e-05\n",
            "Epoch 43/50\n",
            "139/139 [==============================] - 35s 250ms/step - loss: 5.4673e-05\n",
            "Epoch 44/50\n",
            "139/139 [==============================] - 35s 252ms/step - loss: 5.4220e-05\n",
            "Epoch 45/50\n",
            "139/139 [==============================] - 35s 253ms/step - loss: 5.8646e-05\n",
            "Epoch 46/50\n",
            "139/139 [==============================] - 35s 255ms/step - loss: 5.6148e-05\n",
            "Epoch 47/50\n",
            "139/139 [==============================] - 35s 252ms/step - loss: 5.9573e-05\n",
            "Epoch 48/50\n",
            "139/139 [==============================] - 35s 248ms/step - loss: 5.1632e-05\n",
            "Epoch 49/50\n",
            "139/139 [==============================] - 35s 249ms/step - loss: 6.2218e-05\n",
            "Epoch 50/50\n",
            "139/139 [==============================] - 35s 249ms/step - loss: 5.1993e-05\n"
          ],
          "name": "stdout"
        },
        {
          "output_type": "execute_result",
          "data": {
            "text/plain": [
              "<tensorflow.python.keras.callbacks.History at 0x7fb6bde488d0>"
            ]
          },
          "metadata": {
            "tags": []
          },
          "execution_count": 163
        }
      ]
    },
    {
      "cell_type": "code",
      "metadata": {
        "colab": {
          "base_uri": "https://localhost:8080/"
        },
        "id": "r7skF8xEb7cR",
        "outputId": "9ba08803-e259-4b06-9cd5-5ce118f2c415"
      },
      "source": [
        "X_future = X_train_future[-1,:,:].reshape(1,days,1)\n",
        "d_future = 1\n",
        "my_pred = predict_future(my_model_future,d_future,X_future)\n",
        "print(my_pred)"
      ],
      "execution_count": 164,
      "outputs": [
        {
          "output_type": "stream",
          "text": [
            "[254.99313]\n"
          ],
          "name": "stdout"
        }
      ]
    },
    {
      "cell_type": "code",
      "metadata": {
        "colab": {
          "base_uri": "https://localhost:8080/"
        },
        "id": "xXR3RCnhiq3n",
        "outputId": "ed907130-41e7-4e53-80dc-ae70ac0f615e"
      },
      "source": [
        "d_future = 7\n",
        "my_pred = predict_future(my_model_future,d_future,X_future)\n",
        "print(my_pred)"
      ],
      "execution_count": 165,
      "outputs": [
        {
          "output_type": "stream",
          "text": [
            "[[254.99313354]\n",
            " [249.824646  ]\n",
            " [244.74021912]\n",
            " [240.2323761 ]\n",
            " [236.31678772]\n",
            " [232.8571167 ]\n",
            " [229.67599487]]\n"
          ],
          "name": "stdout"
        }
      ]
    },
    {
      "cell_type": "code",
      "metadata": {
        "colab": {
          "base_uri": "https://localhost:8080/",
          "height": 282
        },
        "id": "GupOPg97izQ7",
        "outputId": "4457a7ac-156c-49a0-bf14-aea5863fd247"
      },
      "source": [
        "d_future = 30\n",
        "my_pred = predict_future(my_model_future,d_future,X_future)\n",
        "plt.plot(my_pred)"
      ],
      "execution_count": 169,
      "outputs": [
        {
          "output_type": "execute_result",
          "data": {
            "text/plain": [
              "[<matplotlib.lines.Line2D at 0x7fb6b8f9bb50>]"
            ]
          },
          "metadata": {
            "tags": []
          },
          "execution_count": 169
        },
        {
          "output_type": "display_data",
          "data": {
            "image/png": "[encoded data removed]",
            "text/plain": [
              "<Figure size 432x288 with 1 Axes>"
            ]
          },
          "metadata": {
            "tags": [],
            "needs_background": "light"
          }
        }
      ]
    },
    {
      "cell_type": "code",
      "metadata": {
        "id": "fE9U8ibFjNIB"
      },
      "source": [
        "df = web.DataReader('SHOP', 'yahoo', start='2003-01-01', end='now')"
      ],
      "execution_count": 170,
      "outputs": []
    },
    {
      "cell_type": "code",
      "metadata": {
        "colab": {
          "base_uri": "https://localhost:8080/",
          "height": 225
        },
        "id": "s8jROk_jjb_7",
        "outputId": "b916776c-11bb-4ae4-9227-4a7597dc81d5"
      },
      "source": [
        "df.head()"
      ],
      "execution_count": 171,
      "outputs": [
        {
          "output_type": "execute_result",
          "data": {
            "text/html": [
              "<div>\n",
              "<style scoped>\n",
              "    .dataframe tbody tr th:only-of-type {\n",
              "        vertical-align: middle;\n",
              "    }\n",
              "\n",
              "    .dataframe tbody tr th {\n",
              "        vertical-align: top;\n",
              "    }\n",
              "\n",
              "    .dataframe thead th {\n",
              "        text-align: right;\n",
              "    }\n",
              "</style>\n",
              "<table border=\"1\" class=\"dataframe\">\n",
              "  <thead>\n",
              "    <tr style=\"text-align: right;\">\n",
              "      <th></th>\n",
              "      <th>High</th>\n",
              "      <th>Low</th>\n",
              "      <th>Open</th>\n",
              "      <th>Close</th>\n",
              "      <th>Volume</th>\n",
              "      <th>Adj Close</th>\n",
              "    </tr>\n",
              "    <tr>\n",
              "      <th>Date</th>\n",
              "      <th></th>\n",
              "      <th></th>\n",
              "      <th></th>\n",
              "      <th></th>\n",
              "      <th></th>\n",
              "      <th></th>\n",
              "    </tr>\n",
              "  </thead>\n",
              "  <tbody>\n",
              "    <tr>\n",
              "      <th>2015-05-20</th>\n",
              "      <td>17.000000</td>\n",
              "      <td>17.000000</td>\n",
              "      <td>17.000000</td>\n",
              "      <td>17.000000</td>\n",
              "      <td>0</td>\n",
              "      <td>17.000000</td>\n",
              "    </tr>\n",
              "    <tr>\n",
              "      <th>2015-05-21</th>\n",
              "      <td>28.740000</td>\n",
              "      <td>24.110001</td>\n",
              "      <td>28.000000</td>\n",
              "      <td>25.680000</td>\n",
              "      <td>12303900</td>\n",
              "      <td>25.680000</td>\n",
              "    </tr>\n",
              "    <tr>\n",
              "      <th>2015-05-22</th>\n",
              "      <td>31.100000</td>\n",
              "      <td>26.000000</td>\n",
              "      <td>26.070000</td>\n",
              "      <td>28.309999</td>\n",
              "      <td>2841200</td>\n",
              "      <td>28.309999</td>\n",
              "    </tr>\n",
              "    <tr>\n",
              "      <th>2015-05-26</th>\n",
              "      <td>30.340000</td>\n",
              "      <td>29.080000</td>\n",
              "      <td>29.799999</td>\n",
              "      <td>29.650000</td>\n",
              "      <td>820200</td>\n",
              "      <td>29.650000</td>\n",
              "    </tr>\n",
              "    <tr>\n",
              "      <th>2015-05-27</th>\n",
              "      <td>30.809999</td>\n",
              "      <td>27.000000</td>\n",
              "      <td>30.670000</td>\n",
              "      <td>27.500000</td>\n",
              "      <td>797600</td>\n",
              "      <td>27.500000</td>\n",
              "    </tr>\n",
              "  </tbody>\n",
              "</table>\n",
              "</div>"
            ],
            "text/plain": [
              "                 High        Low       Open      Close    Volume  Adj Close\n",
              "Date                                                                       \n",
              "2015-05-20  17.000000  17.000000  17.000000  17.000000         0  17.000000\n",
              "2015-05-21  28.740000  24.110001  28.000000  25.680000  12303900  25.680000\n",
              "2015-05-22  31.100000  26.000000  26.070000  28.309999   2841200  28.309999\n",
              "2015-05-26  30.340000  29.080000  29.799999  29.650000    820200  29.650000\n",
              "2015-05-27  30.809999  27.000000  30.670000  27.500000    797600  27.500000"
            ]
          },
          "metadata": {
            "tags": []
          },
          "execution_count": 171
        }
      ]
    },
    {
      "cell_type": "code",
      "metadata": {
        "colab": {
          "base_uri": "https://localhost:8080/",
          "height": 225
        },
        "id": "KCufByN2jdGx",
        "outputId": "98ece59f-ac1d-4c87-adee-208ff8289f4d"
      },
      "source": [
        "df.tail()"
      ],
      "execution_count": 172,
      "outputs": [
        {
          "output_type": "execute_result",
          "data": {
            "text/html": [
              "<div>\n",
              "<style scoped>\n",
              "    .dataframe tbody tr th:only-of-type {\n",
              "        vertical-align: middle;\n",
              "    }\n",
              "\n",
              "    .dataframe tbody tr th {\n",
              "        vertical-align: top;\n",
              "    }\n",
              "\n",
              "    .dataframe thead th {\n",
              "        text-align: right;\n",
              "    }\n",
              "</style>\n",
              "<table border=\"1\" class=\"dataframe\">\n",
              "  <thead>\n",
              "    <tr style=\"text-align: right;\">\n",
              "      <th></th>\n",
              "      <th>High</th>\n",
              "      <th>Low</th>\n",
              "      <th>Open</th>\n",
              "      <th>Close</th>\n",
              "      <th>Volume</th>\n",
              "      <th>Adj Close</th>\n",
              "    </tr>\n",
              "    <tr>\n",
              "      <th>Date</th>\n",
              "      <th></th>\n",
              "      <th></th>\n",
              "      <th></th>\n",
              "      <th></th>\n",
              "      <th></th>\n",
              "      <th></th>\n",
              "    </tr>\n",
              "  </thead>\n",
              "  <tbody>\n",
              "    <tr>\n",
              "      <th>2021-04-13</th>\n",
              "      <td>1248.209961</td>\n",
              "      <td>1215.050049</td>\n",
              "      <td>1215.050049</td>\n",
              "      <td>1241.540039</td>\n",
              "      <td>1092300</td>\n",
              "      <td>1241.540039</td>\n",
              "    </tr>\n",
              "    <tr>\n",
              "      <th>2021-04-14</th>\n",
              "      <td>1250.000000</td>\n",
              "      <td>1176.020020</td>\n",
              "      <td>1248.000000</td>\n",
              "      <td>1179.859985</td>\n",
              "      <td>1316500</td>\n",
              "      <td>1179.859985</td>\n",
              "    </tr>\n",
              "    <tr>\n",
              "      <th>2021-04-15</th>\n",
              "      <td>1221.969971</td>\n",
              "      <td>1187.000000</td>\n",
              "      <td>1200.000000</td>\n",
              "      <td>1208.339966</td>\n",
              "      <td>954500</td>\n",
              "      <td>1208.339966</td>\n",
              "    </tr>\n",
              "    <tr>\n",
              "      <th>2021-04-16</th>\n",
              "      <td>1219.189941</td>\n",
              "      <td>1187.819946</td>\n",
              "      <td>1211.000000</td>\n",
              "      <td>1207.800049</td>\n",
              "      <td>733700</td>\n",
              "      <td>1207.800049</td>\n",
              "    </tr>\n",
              "    <tr>\n",
              "      <th>2021-04-19</th>\n",
              "      <td>1202.050049</td>\n",
              "      <td>1143.599976</td>\n",
              "      <td>1192.000000</td>\n",
              "      <td>1145.780029</td>\n",
              "      <td>899607</td>\n",
              "      <td>1145.780029</td>\n",
              "    </tr>\n",
              "  </tbody>\n",
              "</table>\n",
              "</div>"
            ],
            "text/plain": [
              "                   High          Low  ...   Volume    Adj Close\n",
              "Date                                  ...                      \n",
              "2021-04-13  1248.209961  1215.050049  ...  1092300  1241.540039\n",
              "2021-04-14  1250.000000  1176.020020  ...  1316500  1179.859985\n",
              "2021-04-15  1221.969971  1187.000000  ...   954500  1208.339966\n",
              "2021-04-16  1219.189941  1187.819946  ...   733700  1207.800049\n",
              "2021-04-19  1202.050049  1143.599976  ...   899607  1145.780029\n",
              "\n",
              "[5 rows x 6 columns]"
            ]
          },
          "metadata": {
            "tags": []
          },
          "execution_count": 172
        }
      ]
    },
    {
      "cell_type": "code",
      "metadata": {
        "id": "xzx8d8PKjecT"
      },
      "source": [
        "scaler = MinMaxScaler(feature_range=(0, 1))\n",
        "my_data = scaler.fit_transform(df['Close'].values.reshape(-1,1))"
      ],
      "execution_count": 173,
      "outputs": []
    },
    {
      "cell_type": "code",
      "metadata": {
        "colab": {
          "base_uri": "https://localhost:8080/"
        },
        "id": "uKQ2EQjcjrM5",
        "outputId": "066d1fa7-c19a-43a4-ecb5-34b011413b03"
      },
      "source": [
        "my_data.shape"
      ],
      "execution_count": 174,
      "outputs": [
        {
          "output_type": "execute_result",
          "data": {
            "text/plain": [
              "(1489, 1)"
            ]
          },
          "metadata": {
            "tags": []
          },
          "execution_count": 174
        }
      ]
    },
    {
      "cell_type": "code",
      "metadata": {
        "id": "zyw-7wVkji_D"
      },
      "source": [
        "days= 90\n",
        "X, y = create_feature(my_data, days)"
      ],
      "execution_count": 175,
      "outputs": []
    },
    {
      "cell_type": "code",
      "metadata": {
        "id": "P5LHExjBjuyl"
      },
      "source": [
        "X_train_future = X.reshape(X.shape[0], X.shape[1], 1)\n",
        "y_train_future = y.reshape(-1,1)"
      ],
      "execution_count": 176,
      "outputs": []
    },
    {
      "cell_type": "code",
      "metadata": {
        "id": "ogXWH3PLjyip"
      },
      "source": [
        "# creatiing model\n",
        "my_model_future = create_RNN((X_train_future.shape[1],1), 50)\n",
        "\n",
        "# compiling RNN\n",
        "my_model_future.compile(optimizer='adam', loss='mean_squared_error')"
      ],
      "execution_count": 177,
      "outputs": []
    },
    {
      "cell_type": "code",
      "metadata": {
        "colab": {
          "base_uri": "https://localhost:8080/"
        },
        "id": "nRUPwXJNj2X8",
        "outputId": "d2d23114-e426-4b65-f29a-1955781836ef"
      },
      "source": [
        "my_model_future.fit(X_train_future,y_train_future,epochs=50, batch_size=32)"
      ],
      "execution_count": 178,
      "outputs": [
        {
          "output_type": "stream",
          "text": [
            "Epoch 1/50\n",
            "44/44 [==============================] - 10s 118ms/step - loss: 0.0251\n",
            "Epoch 2/50\n",
            "44/44 [==============================] - 5s 118ms/step - loss: 0.0011\n",
            "Epoch 3/50\n",
            "44/44 [==============================] - 5s 115ms/step - loss: 0.0012\n",
            "Epoch 4/50\n",
            "44/44 [==============================] - 5s 117ms/step - loss: 8.2895e-04\n",
            "Epoch 5/50\n",
            "44/44 [==============================] - 5s 116ms/step - loss: 0.0010\n",
            "Epoch 6/50\n",
            "44/44 [==============================] - 5s 116ms/step - loss: 8.3732e-04\n",
            "Epoch 7/50\n",
            "44/44 [==============================] - 5s 116ms/step - loss: 0.0011\n",
            "Epoch 8/50\n",
            "44/44 [==============================] - 5s 121ms/step - loss: 0.0011\n",
            "Epoch 9/50\n",
            "44/44 [==============================] - 5s 119ms/step - loss: 7.3063e-04\n",
            "Epoch 10/50\n",
            "44/44 [==============================] - 5s 122ms/step - loss: 6.6733e-04\n",
            "Epoch 11/50\n",
            "44/44 [==============================] - 5s 123ms/step - loss: 5.9291e-04\n",
            "Epoch 12/50\n",
            "44/44 [==============================] - 5s 125ms/step - loss: 6.7970e-04\n",
            "Epoch 13/50\n",
            "44/44 [==============================] - 5s 123ms/step - loss: 8.1004e-04\n",
            "Epoch 14/50\n",
            "44/44 [==============================] - 5s 122ms/step - loss: 5.4119e-04\n",
            "Epoch 15/50\n",
            "44/44 [==============================] - 5s 122ms/step - loss: 6.7637e-04\n",
            "Epoch 16/50\n",
            "44/44 [==============================] - 5s 122ms/step - loss: 7.6196e-04\n",
            "Epoch 17/50\n",
            "44/44 [==============================] - 6s 126ms/step - loss: 6.0472e-04\n",
            "Epoch 18/50\n",
            "44/44 [==============================] - 5s 124ms/step - loss: 4.6211e-04\n",
            "Epoch 19/50\n",
            "44/44 [==============================] - 5s 124ms/step - loss: 4.4187e-04\n",
            "Epoch 20/50\n",
            "44/44 [==============================] - 5s 125ms/step - loss: 4.1906e-04\n",
            "Epoch 21/50\n",
            "44/44 [==============================] - 6s 128ms/step - loss: 4.3262e-04\n",
            "Epoch 22/50\n",
            "44/44 [==============================] - 6s 128ms/step - loss: 3.8865e-04\n",
            "Epoch 23/50\n",
            "44/44 [==============================] - 6s 129ms/step - loss: 4.2071e-04\n",
            "Epoch 24/50\n",
            "44/44 [==============================] - 6s 125ms/step - loss: 4.0412e-04\n",
            "Epoch 25/50\n",
            "44/44 [==============================] - 6s 125ms/step - loss: 3.1730e-04\n",
            "Epoch 26/50\n",
            "44/44 [==============================] - 6s 125ms/step - loss: 2.5691e-04\n",
            "Epoch 27/50\n",
            "44/44 [==============================] - 5s 124ms/step - loss: 4.6233e-04\n",
            "Epoch 28/50\n",
            "44/44 [==============================] - 6s 125ms/step - loss: 3.7221e-04\n",
            "Epoch 29/50\n",
            "44/44 [==============================] - 6s 126ms/step - loss: 2.7092e-04\n",
            "Epoch 30/50\n",
            "44/44 [==============================] - 5s 125ms/step - loss: 3.4470e-04\n",
            "Epoch 31/50\n",
            "44/44 [==============================] - 6s 127ms/step - loss: 2.6018e-04\n",
            "Epoch 32/50\n",
            "44/44 [==============================] - 6s 127ms/step - loss: 3.1503e-04\n",
            "Epoch 33/50\n",
            "44/44 [==============================] - 6s 126ms/step - loss: 3.4027e-04\n",
            "Epoch 34/50\n",
            "44/44 [==============================] - 6s 126ms/step - loss: 3.1324e-04\n",
            "Epoch 35/50\n",
            "44/44 [==============================] - 6s 127ms/step - loss: 2.6733e-04\n",
            "Epoch 36/50\n",
            "44/44 [==============================] - 6s 126ms/step - loss: 5.1170e-04\n",
            "Epoch 37/50\n",
            "44/44 [==============================] - 6s 127ms/step - loss: 2.0683e-04\n",
            "Epoch 38/50\n",
            "44/44 [==============================] - 6s 126ms/step - loss: 2.1142e-04\n",
            "Epoch 39/50\n",
            "44/44 [==============================] - 5s 125ms/step - loss: 2.2528e-04\n",
            "Epoch 40/50\n",
            "44/44 [==============================] - 6s 126ms/step - loss: 2.6753e-04\n",
            "Epoch 41/50\n",
            "44/44 [==============================] - 6s 127ms/step - loss: 2.3868e-04\n",
            "Epoch 42/50\n",
            "44/44 [==============================] - 6s 127ms/step - loss: 2.5049e-04\n",
            "Epoch 43/50\n",
            "44/44 [==============================] - 6s 129ms/step - loss: 2.1748e-04\n",
            "Epoch 44/50\n",
            "44/44 [==============================] - 6s 129ms/step - loss: 1.9629e-04\n",
            "Epoch 45/50\n",
            "44/44 [==============================] - 6s 134ms/step - loss: 2.0543e-04\n",
            "Epoch 46/50\n",
            "44/44 [==============================] - 6s 135ms/step - loss: 1.9408e-04\n",
            "Epoch 47/50\n",
            "44/44 [==============================] - 6s 127ms/step - loss: 1.9125e-04\n",
            "Epoch 48/50\n",
            "44/44 [==============================] - 6s 126ms/step - loss: 2.1394e-04\n",
            "Epoch 49/50\n",
            "44/44 [==============================] - 6s 127ms/step - loss: 1.5873e-04\n",
            "Epoch 50/50\n",
            "44/44 [==============================] - 6s 129ms/step - loss: 1.9243e-04\n"
          ],
          "name": "stdout"
        },
        {
          "output_type": "execute_result",
          "data": {
            "text/plain": [
              "<tensorflow.python.keras.callbacks.History at 0x7fb6ba09d6d0>"
            ]
          },
          "metadata": {
            "tags": []
          },
          "execution_count": 178
        }
      ]
    },
    {
      "cell_type": "code",
      "metadata": {
        "colab": {
          "base_uri": "https://localhost:8080/"
        },
        "id": "IE6L2AO9kAfM",
        "outputId": "2441addf-6953-416c-d4ad-91f472a4f0df"
      },
      "source": [
        "X_future = X_train_future[-1,:,:].reshape(1,days,1)\n",
        "d_future = 1\n",
        "my_pred = predict_future(my_model_future,d_future,X_future)\n",
        "print(my_pred)"
      ],
      "execution_count": 179,
      "outputs": [
        {
          "output_type": "stream",
          "text": [
            "[1244.2616]\n"
          ],
          "name": "stdout"
        }
      ]
    },
    {
      "cell_type": "code",
      "metadata": {
        "colab": {
          "base_uri": "https://localhost:8080/"
        },
        "id": "bzrICnZglLMC",
        "outputId": "9fb870cf-25b7-4c21-c8c2-552281da4bbd"
      },
      "source": [
        "d_future = 7\n",
        "my_pred = predict_future(my_model_future,d_future,X_future)\n",
        "print(my_pred)"
      ],
      "execution_count": 180,
      "outputs": [
        {
          "output_type": "stream",
          "text": [
            "[[1244.26159668]\n",
            " [1273.421875  ]\n",
            " [1304.23254395]\n",
            " [1332.32434082]\n",
            " [1357.21069336]\n",
            " [1378.60241699]\n",
            " [1396.48986816]]\n"
          ],
          "name": "stdout"
        }
      ]
    },
    {
      "cell_type": "code",
      "metadata": {
        "colab": {
          "base_uri": "https://localhost:8080/",
          "height": 282
        },
        "id": "EKV7_UwklVPy",
        "outputId": "5bbb629a-fb97-46d3-dcae-bb46460f8e38"
      },
      "source": [
        "d_future = 30\n",
        "my_pred = predict_future(my_model_future,d_future,X_future)\n",
        "plt.plot(my_pred)"
      ],
      "execution_count": 181,
      "outputs": [
        {
          "output_type": "execute_result",
          "data": {
            "text/plain": [
              "[<matplotlib.lines.Line2D at 0x7fb6b941b410>]"
            ]
          },
          "metadata": {
            "tags": []
          },
          "execution_count": 181
        },
        {
          "output_type": "display_data",
          "data": {
            "image/png": "[encoded data removed]",
            "text/plain": [
              "<Figure size 432x288 with 1 Axes>"
            ]
          },
          "metadata": {
            "tags": [],
            "needs_background": "light"
          }
        }
      ]
    },
    {
      "cell_type": "code",
      "metadata": {
        "id": "y9Oj4IqRlbLr"
      },
      "source": [
        ""
      ],
      "execution_count": null,
      "outputs": []
    }
  ]
}